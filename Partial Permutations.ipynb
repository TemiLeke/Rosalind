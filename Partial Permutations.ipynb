{
 "cells": [
  {
   "cell_type": "code",
   "execution_count": 1,
   "id": "5067752c-018c-424b-b21e-9493e27e9a04",
   "metadata": {},
   "outputs": [],
   "source": [
    "from gazpacho import get, Soup\n",
    "import csv\n",
    "import os\n",
    "import pandas as pd\n",
    "import numpy as np\n",
    "from itertools import groupby\n",
    "import pathlib\n",
    "import os\n",
    "import math\n",
    "import itertools"
   ]
  },
  {
   "cell_type": "code",
   "execution_count": 16,
   "id": "f96e4af3-1b1b-4446-9c95-cf60daeb13ce",
   "metadata": {},
   "outputs": [],
   "source": [
    "def get_rosalind_data(filepath, filename, readlines=False):    \n",
    "    \n",
    "    if readlines:\n",
    "        with open(filepath+filename, \"r\") as f:\n",
    "            data = f.readlines()\n",
    "            data = [line.strip(\"\\n\") for line in data]\n",
    "    else: \n",
    "        with open(filepath+filename, \"r\") as f:\n",
    "            data = f.read().strip(\"\\n\")\n",
    "\n",
    "    return data\n",
    "\n",
    "filepath=\"C:\\\\Users\\\\adeoy\\\\Downloads\\\\\"\n",
    "filename=\"rosalind_pper.txt\"\n",
    "\n",
    "data = get_rosalind_data(filepath, filename, readlines=False)"
   ]
  },
  {
   "cell_type": "code",
   "execution_count": 9,
   "id": "5347b969-9691-4672-a6f2-1efdbdae01d6",
   "metadata": {},
   "outputs": [],
   "source": [
    "def partial_permutation(data):\n",
    "    data = [int(value) for value in data.split(\" \")]\n",
    "    return math.factorial(data[0])/(math.factorial(data[0] - data[1])) % 1000000"
   ]
  },
  {
   "cell_type": "code",
   "execution_count": 10,
   "id": "c560af44-df8b-4702-b023-78db2a2b4df4",
   "metadata": {},
   "outputs": [
    {
     "data": {
      "text/plain": [
       "348864.0"
      ]
     },
     "execution_count": 10,
     "metadata": {},
     "output_type": "execute_result"
    }
   ],
   "source": [
    "partial_permutation(data)"
   ]
  }
 ],
 "metadata": {
  "kernelspec": {
   "display_name": "Python 3 (ipykernel)",
   "language": "python",
   "name": "python3"
  },
  "language_info": {
   "codemirror_mode": {
    "name": "ipython",
    "version": 3
   },
   "file_extension": ".py",
   "mimetype": "text/x-python",
   "name": "python",
   "nbconvert_exporter": "python",
   "pygments_lexer": "ipython3",
   "version": "3.7.10"
  }
 },
 "nbformat": 4,
 "nbformat_minor": 5
}
