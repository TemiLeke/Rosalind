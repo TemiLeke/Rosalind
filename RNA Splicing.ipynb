{
 "cells": [
  {
   "cell_type": "code",
   "execution_count": 1,
   "id": "5de217a2-a9f3-47fc-9691-73d8d121891e",
   "metadata": {},
   "outputs": [],
   "source": [
    "from gazpacho import get, Soup\n",
    "import csv\n",
    "import os\n",
    "import pandas as pd\n",
    "import numpy as np\n",
    "from itertools import groupby\n",
    "import pathlib\n",
    "import os\n",
    "import math"
   ]
  },
  {
   "cell_type": "code",
   "execution_count": 2,
   "id": "65c3f59f-9d7f-40ee-8b16-61afa91e064e",
   "metadata": {},
   "outputs": [],
   "source": [
    "url = \"http://rosalind.info/glossary/rna-codon-table/\"\n",
    "html = get(url)\n",
    "soup = Soup(html)\n",
    "glossary_terms = soup.find(\"div\", {\"class\": \"glossary-term\"})\n",
    "RNA_codon_table = glossary_terms.find(\"pre\").text"
   ]
  },
  {
   "cell_type": "code",
   "execution_count": 3,
   "id": "23b4ad95-7434-40f7-b80d-335266f2ce33",
   "metadata": {},
   "outputs": [],
   "source": [
    "RNA_codon_table = RNA_codon_table.replace(\"\\n\", \",\").replace(\"     \", \",\").replace(\"    \", \",\").replace(\"      \", \",\")\n",
    "RNA_codon_table = RNA_codon_table.replace(\"   \", \",\")\n",
    "RNA_codon_table = RNA_codon_table.replace(\", \", \",\")\n",
    "RNA_codon_table = RNA_codon_table.replace(\" \", \":\").split(\",\")"
   ]
  },
  {
   "cell_type": "code",
   "execution_count": 4,
   "id": "595261a0-53f0-413d-adbc-5d73531c4779",
   "metadata": {},
   "outputs": [],
   "source": [
    "gene_to_amino_code = {}\n",
    "\n",
    "for code in RNA_codon_table:\n",
    "    code = code.split(\":\")\n",
    "    if code[0] in gene_to_amino_code.keys():\n",
    "        gene_to_amino_code[code[0].replace(\"U\", \"T\")].append(code[1])\n",
    "    else:\n",
    "        gene_to_amino_code[code[0].replace(\"U\", \"T\")] = []\n",
    "        gene_to_amino_code[code[0].replace(\"U\", \"T\")].append(code[1])"
   ]
  },
  {
   "cell_type": "code",
   "execution_count": 5,
   "id": "47036ec1-09db-4b2a-b6e4-0df183d9922c",
   "metadata": {},
   "outputs": [],
   "source": [
    "global gene_to_amino_code\n",
    "\n",
    "def translate(RNA):\n",
    "    counter = 0\n",
    "    protein = \"\"\n",
    "    for i in range(len(RNA)//3):\n",
    "        protein += gene_to_amino_code[RNA[counter:counter+3]][0]\n",
    "        counter += 3\n",
    "        if gene_to_amino_code[RNA[counter:counter+3]][0] == \"Stop\":\n",
    "            protein = protein.replace(\"Stop\", \"\")\n",
    "            break\n",
    "        \n",
    "    return protein"
   ]
  },
  {
   "cell_type": "code",
   "execution_count": 10,
   "id": "bb507073-9df6-4e39-ae22-7ca9f1baa720",
   "metadata": {},
   "outputs": [],
   "source": [
    "def get_rosalind_data(filepath, filename, readlines=False):    \n",
    "    \n",
    "    if readlines:\n",
    "        with open(filepath+filename, \"r\") as f:\n",
    "            data = f.readlines()\n",
    "            data = [line.strip(\"\\n\") for line in data]\n",
    "    else: \n",
    "        with open(filepath+filename, \"r\") as f:\n",
    "            data = f.read().strip(\"\\n\")\n",
    "\n",
    "    return data\n",
    "\n",
    "filepath=\"C:\\\\Users\\\\adeoy\\\\Downloads\\\\\"\n",
    "filename=\"rosalind_splc (2).txt\"\n",
    "\n",
    "data = get_rosalind_data(filepath, filename, readlines=True)\n",
    "introns_exons = [] \n",
    "\n",
    "for item in data:\n",
    "    if \">\" in item:\n",
    "        introns_exons.append(\"\")\n",
    "    else:\n",
    "        introns_exons[-1]+=item\n"
   ]
  },
  {
   "cell_type": "code",
   "execution_count": 11,
   "id": "1a50a174-89c0-4ea3-b8ac-cd3bf1197be3",
   "metadata": {},
   "outputs": [],
   "source": [
    "for item in introns_exons[1:]:\n",
    "    introns_exons[0] = introns_exons[0].replace(item, \"\")"
   ]
  },
  {
   "cell_type": "code",
   "execution_count": 12,
   "id": "a55c166a-fae2-4fbd-bb9e-4e7aefc8aac1",
   "metadata": {},
   "outputs": [],
   "source": [
    "protein = translate(introns_exons[0])"
   ]
  },
  {
   "cell_type": "code",
   "execution_count": 13,
   "id": "514b241c-c2e3-416c-aee7-d6c40bd0ed90",
   "metadata": {},
   "outputs": [
    {
     "data": {
      "text/plain": [
       "'MPPLVHFENGNQWNSAVRKGSSGQYDRPRLTATEHLKFERPSTRVLISDEYHTRTFPAIVLENTIGEHRSGLPHPHRSSVVVGLVEHGVPPHVTPAFALSLSAGCVSLYPFYTITPSQQRHVSDIEGIPASQSGRTRVAITRHPDLTLRLAAFSGVVLPQTLVTTHDSLVLSIHNGGPRNGRDRIEGHLINFPALL'"
      ]
     },
     "execution_count": 13,
     "metadata": {},
     "output_type": "execute_result"
    }
   ],
   "source": [
    "protein"
   ]
  }
 ],
 "metadata": {
  "kernelspec": {
   "display_name": "Python 3 (ipykernel)",
   "language": "python",
   "name": "python3"
  },
  "language_info": {
   "codemirror_mode": {
    "name": "ipython",
    "version": 3
   },
   "file_extension": ".py",
   "mimetype": "text/x-python",
   "name": "python",
   "nbconvert_exporter": "python",
   "pygments_lexer": "ipython3",
   "version": "3.7.10"
  }
 },
 "nbformat": 4,
 "nbformat_minor": 5
}
