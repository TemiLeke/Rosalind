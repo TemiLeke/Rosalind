{
 "cells": [
  {
   "cell_type": "code",
   "execution_count": 8,
   "id": "f49e4d98-7772-40df-b577-08e4625c3019",
   "metadata": {},
   "outputs": [],
   "source": [
    "from gazpacho import get, Soup\n",
    "import csv\n",
    "import os\n",
    "import pandas as pd\n",
    "import numpy as np\n",
    "from itertools import groupby\n",
    "import pathlib\n",
    "import os\n",
    "import math\n",
    "import itertools\n",
    "\n",
    "\n"
   ]
  },
  {
   "cell_type": "code",
   "execution_count": 20,
   "id": "68c3f6ee-8ca4-404e-a34b-f6eebebfda5f",
   "metadata": {},
   "outputs": [],
   "source": [
    "def get_rosalind_data(filepath, filename, readlines=False):    \n",
    "    \n",
    "    if readlines:\n",
    "        with open(filepath+filename, \"r\") as f:\n",
    "            data = f.readlines()\n",
    "            data = [line.strip(\"\\n\") for line in data]\n",
    "    else: \n",
    "        with open(filepath+filename, \"r\") as f:\n",
    "            data = f.read().strip(\"\\n\")\n",
    "\n",
    "    return data\n",
    "\n",
    "filepath=\"C:\\\\Users\\\\adeoy\\\\Downloads\\\\\"\n",
    "filename=\"rosalind_prob (1).txt\"\n",
    "\n",
    "data = get_rosalind_data(filepath, filename, readlines=True)\n",
    "\n",
    "DNA_string = data[0]\n",
    "A = [float(value) for value in data[1].split(\" \")]"
   ]
  },
  {
   "cell_type": "code",
   "execution_count": 21,
   "id": "40655131-9a63-46db-a434-e3982eabd5eb",
   "metadata": {},
   "outputs": [],
   "source": [
    "def gc_content(DNA_string):\n",
    "    return DNA_string.count(\"G\") + DNA_string.count(\"C\")"
   ]
  },
  {
   "cell_type": "code",
   "execution_count": 22,
   "id": "a8aff05d-8596-432f-9ad9-b9bcf4018923",
   "metadata": {},
   "outputs": [],
   "source": [
    "def probabaility_of_random_motif(GC_content, DNA_string, A):\n",
    "    AT_content = len(DNA_string) - GC_content\n",
    "    B = \"\"\n",
    "    for index, value in enumerate(A):\n",
    "        B += f\"{np.log10((value/2)**GC_content) + np.log10(((1-value)/2)**AT_content)} \"\n",
    "    return B"
   ]
  },
  {
   "cell_type": "code",
   "execution_count": 23,
   "id": "4e7924b9-a5f1-46a9-a27d-c4c1fd5e3124",
   "metadata": {},
   "outputs": [
    {
     "data": {
      "text/plain": [
       "'-78.85287016586528 -72.09804379172 -63.836887358657705 -60.24926578737923 -59.91659271983755 -57.80130002189847 -56.901960624224714 -56.45656678051073 -56.735422571047586 -56.864159431327536 -58.54395652659987 -59.66363153466604 -61.71929430294358 -66.39670295455332 -69.78478674730853 -73.6045695323033 -83.39167174120165 '"
      ]
     },
     "execution_count": 23,
     "metadata": {},
     "output_type": "execute_result"
    }
   ],
   "source": [
    "GC_content = gc_content(DNA_string)\n",
    "probabaility_of_random_motif(GC_content, DNA_string, A)"
   ]
  },
  {
   "cell_type": "code",
   "execution_count": null,
   "id": "60695152-95e8-404b-94e1-7a5234057f62",
   "metadata": {},
   "outputs": [],
   "source": []
  }
 ],
 "metadata": {
  "kernelspec": {
   "display_name": "Python 3 (ipykernel)",
   "language": "python",
   "name": "python3"
  },
  "language_info": {
   "codemirror_mode": {
    "name": "ipython",
    "version": 3
   },
   "file_extension": ".py",
   "mimetype": "text/x-python",
   "name": "python",
   "nbconvert_exporter": "python",
   "pygments_lexer": "ipython3",
   "version": "3.7.10"
  }
 },
 "nbformat": 4,
 "nbformat_minor": 5
}
