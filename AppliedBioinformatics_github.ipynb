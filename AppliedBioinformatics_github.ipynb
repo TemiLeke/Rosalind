{
 "cells": [
  {
   "cell_type": "markdown",
   "id": "b58b7c21-fa4a-4811-be1b-f13d31b69ec6",
   "metadata": {},
   "source": [
    "# Counting DNA Nucleotides"
   ]
  },
  {
   "cell_type": "code",
   "execution_count": 1,
   "id": "6cea3aad-6b80-4bbc-8405-8ec1092b11a4",
   "metadata": {},
   "outputs": [],
   "source": [
    "DNA = \"ACCACTCCTCACACCATGTATCGAGATGTCTTTGGAACTCCGTGGATTTGTAGCCTCCGCAAATCTCATAAGCGACGACAGACTGCTTAATATCTATAAACCGCTGCGTCAATAATGCACTAGATGCAAAACGAGCGGATGCTACTGGATCATCCATCACCTAAAGCAATTAAGTAATTATAACGGTCTGGACTGGTTGCGATACCAAGACACAATGCGTGCTTACCACAATCTTAGCACTCTGGCTGGCCATGTGACGCGGCTAAGCTCCAGTGTCGACATCGGTAGTACACTAGTTATCCGGGTCCAGTAACAAGTGTCTGAGTCCACAATCCACGTGAATTTAGCGGCCGGACGTAGCTTCGTACTCTAGCTCCGTGCCAACCAATACTACTATTCCCCCATCACCGGGAAGTCGTTGCAAGCGGCTACCCCCTCTGGCCAGAATGCCATAAGATCCCGCACAAGACATAAATCTCCCTGATCCTTTGACAGGGGCCGCTTTATGACGTGCATAGAACGGGCACGCTGGCAACAAAGGGCTGCATCAGCCTCAGATTTGTATGTGGGATGCAGATGTCATTCGTAGAGGAGCGGGAGGTATATACAAGTACTACGATGAGTAGTGGGACGGCTCACATTGAGCAGACGTCTTGTGAGTCCTAAGCCGCGCGCCAATTAGGAATTGGCTAGGGTTGGATATCTACTACTAAGGAATCGGCAAGGAAGCAGGTTAGGCAGACCAACTCTACAATTGTGATGCGGCTGTTTTTTACTTCTGGAAACACCCTGCAAAGTTACTGCTCTAACATATTTTGCCCGGGTTGAAAGGTAAGCCTGACGACTTTCTATATGAAGCGATCCACTGTAACTTATGACAGCGTGTAGATGTGATTCGGCATTAAAGCAATTAGCCAATGATCAACTACGCGGAGATCCTCGTATGTTCTG\""
   ]
  },
  {
   "cell_type": "code",
   "execution_count": 2,
   "id": "dfbdbbe0-2631-46d5-9bdf-3633d205fc8b",
   "metadata": {},
   "outputs": [],
   "source": [
    "from collections import Counter"
   ]
  },
  {
   "cell_type": "code",
   "execution_count": 3,
   "id": "c0bca2af-16e4-4958-a587-354c85e8406d",
   "metadata": {},
   "outputs": [],
   "source": [
    "counter = Counter(DNA)"
   ]
  },
  {
   "cell_type": "code",
   "execution_count": 4,
   "id": "67a89350-aa91-47c6-9c22-e7cbe469e9cb",
   "metadata": {},
   "outputs": [],
   "source": [
    "count = [counter[\"A\"], counter[\"C\"], counter[\"G\"], counter[\"T\"]]"
   ]
  },
  {
   "cell_type": "code",
   "execution_count": 5,
   "id": "0e93deac-9e36-4b09-b921-4cfb68716984",
   "metadata": {},
   "outputs": [
    {
     "data": {
      "text/plain": [
       "[(257, 234, 226, 234)]"
      ]
     },
     "execution_count": 5,
     "metadata": {},
     "output_type": "execute_result"
    }
   ],
   "source": [
    "counts = []\n",
    "\n",
    "counts.append((DNA.count(\"A\"), DNA.count(\"C\"),DNA.count(\"G\"),DNA.count(\"T\")))\n",
    "counts"
   ]
  },
  {
   "cell_type": "code",
   "execution_count": 6,
   "id": "45d72306-fdab-4ba8-976f-cb14a91eaec2",
   "metadata": {},
   "outputs": [
    {
     "data": {
      "text/plain": [
       "[190, 197, 190, 225]"
      ]
     },
     "execution_count": 6,
     "metadata": {},
     "output_type": "execute_result"
    }
   ],
   "source": [
    "[190, 197, 190, 225]"
   ]
  },
  {
   "cell_type": "markdown",
   "id": "7de627b6-e986-41af-9c9b-4da2d77bd9c9",
   "metadata": {},
   "source": [
    "# Transcribing DNA into RNA"
   ]
  },
  {
   "cell_type": "code",
   "execution_count": 7,
   "id": "9e58a00e-760a-4a42-91a0-b26042310956",
   "metadata": {},
   "outputs": [],
   "source": [
    "DNA = \"AGGGCCTATGCTATGAACATAATAACCCCCGCCTTCATGAGAGCGCATGAAAGGGAGTGCGAAGTGAGTACTATACCCGTAGGCCTTACTGACCAGTCTACTGGCCTGGGGTAGCGAACCTGTTTGGACACTCGTAAAAAAGTGTGACTACGAGCTATAGTGTATATGTATGCCGTGACGTCTGCGGTCGTTGTAGAAGGGTCCTAGTTATTCACTGCCGCTCTCCATCCGCGCTATACGATCCTTACTGCGGTCCGACTCTTCTAAGCGAGGTCCCTACAATAGCTCTGTAGCCATTTAATACAGCAGCCCTGACCGCTATAGGGTAAAACGACTATGGATTGCGTATAGTTCCAAAGTTGCAGACTACTAGGATTTCCAGCGCCCACCTGGGCGAGGCACTTGATTACAAGACTTAATCGGTTCTTCCCGGTTATACACACTTACAGCAAACTTGCTTGACCGGGGCCCAACAGTTTACGGGCGCATGTATCATAAAGAGTTCTTTAGAATGCCGGCTGGCATGTAGCATCGGCAGGAGTCTAATAAAGCCAAGGGATGAAGCTTTCGTTGGAAGGGTACTAATCACTATATATGCGGCACAGTGCCGTCGTCCTAAGTAGGTGGTTGACCTATAACACTGACACCGTCGACACAGGTGAAAGTAGTGCTAGCGCGGTGAAACTCTGACAGATTCAAAGAACAAACCTGAGCTCTTGTTAGTGTGTGGTTTCGATTTATCGTATCTTACGTGCCCCGATCCTAGACAATCAGCAAATCGCGGCAACTTCTGGTTCTATAATTTCACTGCCGCTCACGTAATGGTTGACAGAAACGGTGGATAGGGTACGATACAAGCCTACAGTATGCATACTTTAAGCCGGGGCCTCCTCATCTAACGCGCAATAGTTACATGTTTCATTCGGTACAGATTCAGGACTCTTCATTATCGGGTACATGC\""
   ]
  },
  {
   "cell_type": "code",
   "execution_count": 8,
   "id": "901d1758-0ab8-4138-be40-01364e6bcfc9",
   "metadata": {},
   "outputs": [],
   "source": [
    "RNA = DNA.replace(\"T\", \"U\")"
   ]
  },
  {
   "cell_type": "code",
   "execution_count": 9,
   "id": "e4245f35-bd86-450e-97e3-ab5ae84fd614",
   "metadata": {},
   "outputs": [
    {
     "data": {
      "text/plain": [
       "'AGGGCCUAUGCUAUGAACAUAAUAACCCCCGCCUUCAUGAGAGCGCAUGAAAGGGAGUGCGAAGUGAGUACUAUACCCGUAGGCCUUACUGACCAGUCUACUGGCCUGGGGUAGCGAACCUGUUUGGACACUCGUAAAAAAGUGUGACUACGAGCUAUAGUGUAUAUGUAUGCCGUGACGUCUGCGGUCGUUGUAGAAGGGUCCUAGUUAUUCACUGCCGCUCUCCAUCCGCGCUAUACGAUCCUUACUGCGGUCCGACUCUUCUAAGCGAGGUCCCUACAAUAGCUCUGUAGCCAUUUAAUACAGCAGCCCUGACCGCUAUAGGGUAAAACGACUAUGGAUUGCGUAUAGUUCCAAAGUUGCAGACUACUAGGAUUUCCAGCGCCCACCUGGGCGAGGCACUUGAUUACAAGACUUAAUCGGUUCUUCCCGGUUAUACACACUUACAGCAAACUUGCUUGACCGGGGCCCAACAGUUUACGGGCGCAUGUAUCAUAAAGAGUUCUUUAGAAUGCCGGCUGGCAUGUAGCAUCGGCAGGAGUCUAAUAAAGCCAAGGGAUGAAGCUUUCGUUGGAAGGGUACUAAUCACUAUAUAUGCGGCACAGUGCCGUCGUCCUAAGUAGGUGGUUGACCUAUAACACUGACACCGUCGACACAGGUGAAAGUAGUGCUAGCGCGGUGAAACUCUGACAGAUUCAAAGAACAAACCUGAGCUCUUGUUAGUGUGUGGUUUCGAUUUAUCGUAUCUUACGUGCCCCGAUCCUAGACAAUCAGCAAAUCGCGGCAACUUCUGGUUCUAUAAUUUCACUGCCGCUCACGUAAUGGUUGACAGAAACGGUGGAUAGGGUACGAUACAAGCCUACAGUAUGCAUACUUUAAGCCGGGGCCUCCUCAUCUAACGCGCAAUAGUUACAUGUUUCAUUCGGUACAGAUUCAGGACUCUUCAUUAUCGGGUACAUGC'"
      ]
     },
     "execution_count": 9,
     "metadata": {},
     "output_type": "execute_result"
    }
   ],
   "source": [
    "RNA"
   ]
  },
  {
   "cell_type": "markdown",
   "id": "98663246-2498-4c20-8395-70e1f4921b92",
   "metadata": {},
   "source": [
    "# Complementing a Strand of DNA"
   ]
  },
  {
   "cell_type": "code",
   "execution_count": 10,
   "id": "532909a4-1512-43e5-9b09-53873a429028",
   "metadata": {},
   "outputs": [],
   "source": [
    "DNA = \"AGATTTTCCCAGCATATCATAAACCGAGTCTTAAGCTAGAGACTGACTGTTCAGGCATTCCGTAGCCATAGGCCCCGATGAACGCTTGATAGGGGGTCACAGAAGTTTTAAATAGACGCCTGCTCTCGCGAGTTGCTCAACGAAGGACACACCTACTTGACGAAGAAGCTCCGTCGGGTAGCCTTTATACGTATGCCTCCCTACGAATTAGTTTTTCGGCGGCCAACGCCTAACTTCATCCAAACACTCCACTTTGGGCCTTTCCCACTAGGGGACCTCTCTCGGGCGTGCCGGAAGTACGTAGATCCGTCTAGGTCCACTCAAACGAACGTGTGCGTATAAAGGGGGTGGAGTTCATGCGAATGCCTGGTAAATGGGAGCTGATCTTTCAAGGAGGCCCGCCCTTTTCCCTATTACTGCGAAAGCCTGCGAATTTAATCTGCAAACCCGATAATACCCTCGGCACGGCCTGACCGACTCTAAACCAAATAGCCCGGACGATCTCAAATGCTATCACGAACGACAGGTTCTACGGACACGGAAAGTGTCTAACCACATTAACAGAGGGCTTTGAGGTCTGAGGGCTTAGCGCCGCAGTCCCGGCAGACGAGTGTCTGGTCACTCCATCATGGCTGGACCATCTGCCAGGATTTGCTCACTGGCTTTTCCTTTCGCGCGGAGTCAGGGACACATGGCGTGTACCCTGAGGTAACGCTATCTTTCTGCGGGCTGTACCTACTTCCCAACGAATGAATGTGTTTATCGTCCCATAGCAGCCAGGTGAAATAGGAGAGAATTCGTGACGTCGGGAGTGATGGAGAACTAGCAGTATGCAGGTCAATAACTGAGATCGGCTAACTAATGGTAAAGGTAATCCTGTCTCCTACACCATGACGTAGGTGGGCAGACTTGGAAGGGACCAGCTAAGACATGGGAC\"\n",
    "DNA = list(DNA)"
   ]
  },
  {
   "cell_type": "code",
   "execution_count": 11,
   "id": "635af0c2-2f30-48f0-92df-f39d621ade2a",
   "metadata": {},
   "outputs": [],
   "source": [
    "DNA.reverse()"
   ]
  },
  {
   "cell_type": "code",
   "execution_count": 12,
   "id": "03ba4780-afc3-4970-b9f8-5145ea372adf",
   "metadata": {},
   "outputs": [],
   "source": [
    "reversed_DNA = \"\".join(DNA) "
   ]
  },
  {
   "cell_type": "code",
   "execution_count": 13,
   "id": "89bfa2ab-f611-46b4-a6b8-a1c0286b6794",
   "metadata": {},
   "outputs": [],
   "source": [
    "complementary_DNA = \"\".join([\"T\" if base==\"A\" else \"C\" if base==\"G\" else \"G\" if base==\"C\"\n",
    "                            else \"A\" if base==\"T\" else \"\" for base in reversed_DNA])"
   ]
  },
  {
   "cell_type": "code",
   "execution_count": 14,
   "id": "3cee56c7-9f63-471a-8fd8-af9c4d178f58",
   "metadata": {},
   "outputs": [
    {
     "data": {
      "text/plain": [
       "'GTCCCATGTCTTAGCTGGTCCCTTCCAAGTCTGCCCACCTACGTCATGGTGTAGGAGACAGGATTACCTTTACCATTAGTTAGCCGATCTCAGTTATTGACCTGCATACTGCTAGTTCTCCATCACTCCCGACGTCACGAATTCTCTCCTATTTCACCTGGCTGCTATGGGACGATAAACACATTCATTCGTTGGGAAGTAGGTACAGCCCGCAGAAAGATAGCGTTACCTCAGGGTACACGCCATGTGTCCCTGACTCCGCGCGAAAGGAAAAGCCAGTGAGCAAATCCTGGCAGATGGTCCAGCCATGATGGAGTGACCAGACACTCGTCTGCCGGGACTGCGGCGCTAAGCCCTCAGACCTCAAAGCCCTCTGTTAATGTGGTTAGACACTTTCCGTGTCCGTAGAACCTGTCGTTCGTGATAGCATTTGAGATCGTCCGGGCTATTTGGTTTAGAGTCGGTCAGGCCGTGCCGAGGGTATTATCGGGTTTGCAGATTAAATTCGCAGGCTTTCGCAGTAATAGGGAAAAGGGCGGGCCTCCTTGAAAGATCAGCTCCCATTTACCAGGCATTCGCATGAACTCCACCCCCTTTATACGCACACGTTCGTTTGAGTGGACCTAGACGGATCTACGTACTTCCGGCACGCCCGAGAGAGGTCCCCTAGTGGGAAAGGCCCAAAGTGGAGTGTTTGGATGAAGTTAGGCGTTGGCCGCCGAAAAACTAATTCGTAGGGAGGCATACGTATAAAGGCTACCCGACGGAGCTTCTTCGTCAAGTAGGTGTGTCCTTCGTTGAGCAACTCGCGAGAGCAGGCGTCTATTTAAAACTTCTGTGACCCCCTATCAAGCGTTCATCGGGGCCTATGGCTACGGAATGCCTGAACAGTCAGTCTCTAGCTTAAGACTCGGTTTATGATATGCTGGGAAAATCT'"
      ]
     },
     "execution_count": 14,
     "metadata": {},
     "output_type": "execute_result"
    }
   ],
   "source": [
    "complementary_DNA"
   ]
  },
  {
   "cell_type": "code",
   "execution_count": null,
   "id": "6e31fa04-7424-4653-a43a-d18bdd43675e",
   "metadata": {},
   "outputs": [],
   "source": []
  },
  {
   "cell_type": "markdown",
   "id": "a1c92747-9869-457d-944e-03f273ce0611",
   "metadata": {},
   "source": [
    "# Rabbits and Recurrence Relations"
   ]
  },
  {
   "cell_type": "code",
   "execution_count": 15,
   "id": "faa42fef-a343-4789-aa1e-4bdd39a386e5",
   "metadata": {},
   "outputs": [],
   "source": [
    "def fibonacci_mem(n, k, d):\n",
    "    if n in d.keys():\n",
    "        return d[n]\n",
    "    else:\n",
    "        d[n] = fibonacci_mem(n-1, k, d) + (k)*fibonacci_mem(n-2, k, d)\n",
    "    return d[n]"
   ]
  },
  {
   "cell_type": "code",
   "execution_count": 16,
   "id": "daa6ad6c-9c4e-4340-ace0-5162112066c1",
   "metadata": {},
   "outputs": [
    {
     "data": {
      "text/plain": [
       "47079164257"
      ]
     },
     "execution_count": 16,
     "metadata": {},
     "output_type": "execute_result"
    }
   ],
   "source": [
    "cache = {0:0,1:1}\n",
    "fibonacci_mem(31, 3, cache)"
   ]
  },
  {
   "cell_type": "markdown",
   "id": "5dc39cbc-d7f2-426b-91c7-a4a27ab34c1f",
   "metadata": {},
   "source": [
    "# Computing GC Content"
   ]
  },
  {
   "cell_type": "code",
   "execution_count": 17,
   "id": "a7ee2608-5e11-48ff-84dc-433814491417",
   "metadata": {},
   "outputs": [
    {
     "name": "stderr",
     "output_type": "stream",
     "text": [
      "C:\\Users\\adeoy\\anaconda3\\lib\\site-packages\\numpy\\_distributor_init.py:32: UserWarning: loaded more than 1 DLL from .libs:\n",
      "C:\\Users\\adeoy\\anaconda3\\lib\\site-packages\\numpy\\.libs\\libopenblas.PYQHXLVVQ7VESDPUVUADXEVJOBGHJPAY.gfortran-win_amd64.dll\n",
      "C:\\Users\\adeoy\\anaconda3\\lib\\site-packages\\numpy\\.libs\\libopenblas.WCDJNK7YVMPZQ2ME2ZZHJJRJ3JIKNDB7.gfortran-win_amd64.dll\n",
      "  stacklevel=1)\n"
     ]
    }
   ],
   "source": [
    "import pandas as pd\n",
    "import numpy as np\n",
    "from itertools import groupby"
   ]
  },
  {
   "cell_type": "code",
   "execution_count": 18,
   "id": "4bf70f43-d4c4-4ed6-9e4c-d5e8528e1fee",
   "metadata": {},
   "outputs": [
    {
     "name": "stdout",
     "output_type": "stream",
     "text": [
      "Rosalind_3614\n",
      "51.289989680082556\n",
      "Rosalind_2738\n",
      "50.602409638554214\n",
      "Rosalind_6310\n",
      "50.48192771084337\n",
      "Rosalind_8738\n",
      "50.36585365853659\n",
      "Rosalind_8601\n",
      "50.0\n",
      "Rosalind_9011\n",
      "49.66139954853273\n",
      "Rosalind_0749\n",
      "48.97119341563786\n",
      "Rosalind_9987\n",
      "48.43205574912892\n",
      "Rosalind_6684\n",
      "47.450110864745014\n",
      "Rosalind_7526\n",
      "46.51162790697674\n"
     ]
    }
   ],
   "source": [
    "def fasta_iter(filename):\n",
    "    \n",
    "    fh = open(filename)\n",
    "    \n",
    "    # ditch the boolean (x[0]) and just keep the header or sequence since\n",
    "    # we know they alternate.\n",
    "\n",
    "    faiter = (x[1] for x in groupby(fh, lambda line: line[0] == \">\"))\n",
    "    \n",
    "    \n",
    "    for header in faiter:\n",
    "        # drop the \">\"\n",
    "        headerStr = header.__next__()[1:].strip()\n",
    "\n",
    "        # join all sequence lines to one.\n",
    "        seq = \"\".join(s.strip() for s in faiter.__next__())\n",
    "\n",
    "        yield (headerStr, seq)\n",
    "        \n",
    "    \n",
    "    \n",
    "fiter = fasta_iter(\"rosalind_gc.txt\")\n",
    "\n",
    "data = {}\n",
    "GC = {}\n",
    "for ff in fiter:\n",
    "    headerStr, seq = ff\n",
    "    data[headerStr] = seq\n",
    "    counter = Counter(seq)\n",
    "    GC[headerStr] = 100*(counter[\"G\"] + counter[\"C\"])/len(seq)\n",
    "    \n",
    "sortedGC = sorted(GC.items(), key=lambda kv: kv[1], reverse=True)\n",
    "\n",
    "for GC in sortedGC:\n",
    "    print(f\"{GC[0]}\")\n",
    "    print(f\"{GC[1]}\")"
   ]
  },
  {
   "cell_type": "markdown",
   "id": "8b2288e8-1106-4fbe-8826-8561bf71496f",
   "metadata": {},
   "source": [
    "# Counting Point Mutations"
   ]
  },
  {
   "cell_type": "code",
   "execution_count": 19,
   "id": "884c71ef-af5a-4d31-abe7-bcf3b26097ae",
   "metadata": {},
   "outputs": [],
   "source": [
    "def hamming_distance(seq_A, seq_B):\n",
    "    hd = [True for index,char in enumerate(seq_A) if char != seq_B[index]]\n",
    "    return sum(hd)"
   ]
  },
  {
   "cell_type": "code",
   "execution_count": 20,
   "id": "757030e7-821f-4f5d-9296-58b0ed05d220",
   "metadata": {},
   "outputs": [],
   "source": [
    "seq_A = \"AGAGGCGGATCAGTAGTTGACCGCATGGGGGCATCACGGGAATCAAATTAGGGCATTAGAGGGTGCTGACACAGCCCTGACGTGATTTTGTGCTCCGCTTACAATCAAAGCACCCCGAAGGAGTTGAAAGATTGGTATTGTACACGATTGTGCCACATACCATAGCCAGCAATTATCGTGTACTTTCGCTGCTTTCACGTAACAGCGGCCGGTTCCTAACCTGGGACCGGCGGGGAACCCGCTCGAAGGAACTCAGAGACCTCCCCGTTTACTTCTCTAACCTGTAAGTGCCGGTCTGTGGGACTAAATCTAAAGAAGCAGACTTTCGTGATGTCCTTGATTCGGGTCGGTTTGAGGAGCTGCTCCCGTCGGTGGAACTAATGGGTGACGTGTAGAACACCCGCGAAGCCCTATTTAGCAGGCTGAAGGAAGCGACGTCCTTAAGTGACCCCACGAAATGGTCACTTGGGCCCTACCGCAGAGAGTCCAAGTTTTTGCTAAGTCGGTTTATACTAGAAACCAGGCCTACCCAGAATGTAGGGGGAATAGGGAGATCACGCTTTGCGATCTGACTTACAGCATTGGTTCCTGCCTAATCTGTCAATTTCGATGCTACCCCTTCTTTCTGTGCCTAGTGTCACGTACATCCCGGTTGCATTACCGCAAACTATCTGTTCATTCGTAATGATAGTTAATAAAGCCTCCAAGCCTATTCTCTGTACTCACCATCGAACTGAGCTACCATGAGCCGGGAACGGGAGCATTTTCTGGAAGTAGATTGCAAAGTGAAGCGACGTGCGGCTCGCTCTCCTGATTGTGTACACATGTCAGCAAGAACGTGTGATTGATGTGTGCAGCGTAAGACATGAATAAACACTAATCGTCCAACATTACATCAACGGACTAGTGCATGGGT\"\n",
    "seq_B = \"GGGCGCGGCTAAGTCGTTGGGTCAGGTGATCCATCAGGCGAATAAACGCTTAGTAGTAGACTCTCTGAACACAAAGAGTACTAAAGGTGCACCCCTGCTGGGAACCAAGAAGCCCCGGACAACATGCAGGATTGGAACGCAGACGTCAACAGCCCCTTGGTGTAGATAGGTTTGAGTGCTACATTCTGCGAATCTCACGGGAGACCGCATACTTGCTAATTGGGAAGCTGAGCTAATCGACGTCAAGATAGCTCAGCCCGATTTGGGTTCCCCTGTGTACTTGTTAACTGCGGTCCTAGAGATACCCACCCAAACCAGACCACTTATCAAAGGAGCTTAATTCAGGGTGCGTCCACAGGCTGCACCCGACGGTCTTTCTCTTCGAGTCGGTCTATGAGTTGCCTGGATGCGAATTAAGCTGGGTCCTAGAAGGAGTGTGATTTCACACGCCAAATAATTGGCCCTTAGTGGCGTCGCGCAAGAGGTTGAAGCCTATAGTACAAAGGTAACTAGTCGTAAGTCAACCTCCGCAGAATTTAAGTGCAATACGCACATGATGGTCGCCCGTGTGGTCTTGGATTATGGTAACATTCATAACTGCGCATTTAGAGGACACCGCGTCGTACCGCATGTCCTACTATGTACTTCTCGCTTACGGCACCCATAACTCGCTACTCCCTCGCACTGAACCATACCATAGCTAGCTAGTCTACTCTCTGTACACACCAATGACTGTAGCTCATCTTCGAAAGGAGCCGGAGGATTATATGCTAATCCATTGCCTATTGCGTTGCGTGGGGACGCCCTGTCCCGTCTTTGCAGGAATTTTATAAACTACCCGTATTTGAGCCCCCGTCCCACACAAATGACTCAGCCCTAAGCAGGCGCAATTGCGAAATGGGATATACGCTTTAGA\"\n",
    "hd = hamming_distance(seq_A, seq_B)"
   ]
  },
  {
   "cell_type": "code",
   "execution_count": 21,
   "id": "d356292b-7c9e-4638-8941-7bf5be947149",
   "metadata": {},
   "outputs": [
    {
     "data": {
      "text/plain": [
       "471"
      ]
     },
     "execution_count": 21,
     "metadata": {},
     "output_type": "execute_result"
    }
   ],
   "source": [
    "hd"
   ]
  },
  {
   "cell_type": "code",
   "execution_count": 22,
   "id": "c1b80e9e-735b-4175-92bd-aab3e5d27da7",
   "metadata": {},
   "outputs": [
    {
     "data": {
      "text/plain": [
       "<enumerate at 0x1c86995fe58>"
      ]
     },
     "execution_count": 22,
     "metadata": {},
     "output_type": "execute_result"
    }
   ],
   "source": [
    "enumerate(seq_A)"
   ]
  },
  {
   "cell_type": "markdown",
   "id": "45a8d6c1-db7e-46e0-8bdc-03150cbcff90",
   "metadata": {},
   "source": [
    "# Calculating Expected Offspring”, “Independent Alleles\"."
   ]
  },
  {
   "cell_type": "code",
   "execution_count": 23,
   "id": "d1f09672-579b-48e3-a635-9888371b209d",
   "metadata": {},
   "outputs": [],
   "source": [
    "import pathlib\n",
    "import os\n",
    "\n",
    "def probability(data):\n",
    "    \n",
    "    \"\"\"Given: Three positive integers k, m, and n, representing a population containing k+m+n organisms:\n",
    "    k individuals are homozygous dominant for a factor, m are heterozygous, and n are homozygous recessive.\n",
    "    Returns the probability that two randomly selected mating organisms will produce an individual possessing\n",
    "    a dominant allele (and thus displaying the dominant phenotype). Assume that any two organisms can mate.\"\"\"\n",
    "    \n",
    "    organisms = data.split()\n",
    "    homozygous_dominant = int(organisms[0])\n",
    "    heterozygous = int(organisms[1])\n",
    "    homozygous_recessive = int(organisms[2])\n",
    "    \n",
    "    sample_space = homozygous_dominant + heterozygous + homozygous_recessive\n",
    "    \n",
    "    probability = ((homozygous_dominant*(homozygous_dominant-1)) + (homozygous_dominant*heterozygous) + \n",
    "                   (homozygous_dominant*homozygous_recessive) \n",
    "                   + (heterozygous*(heterozygous-1))*0.75 + (heterozygous*(homozygous_dominant)) + \n",
    "                   (heterozygous*(homozygous_recessive))*0.5\n",
    "                   + (homozygous_recessive*(homozygous_dominant)) + (homozygous_recessive*(heterozygous))*0.5)\n",
    "    \n",
    "    probability = probability /((sample_space)*(sample_space-1))\n",
    "        \n",
    "    return probability"
   ]
  },
  {
   "cell_type": "code",
   "execution_count": 24,
   "id": "23822fcf-7c75-4010-b97a-8cf90ccdf819",
   "metadata": {},
   "outputs": [],
   "source": [
    "def get_rosalind_data(filepath, filename, readlines=False):    \n",
    "    \n",
    "    if readlines:\n",
    "        with open(filepath+filename, \"r\") as f:\n",
    "            data = f.readlines()\n",
    "            data = [line.strip(\"\\n\") for line in data]\n",
    "    else: \n",
    "        with open(filepath+filename, \"r\") as f:\n",
    "            data = f.read().strip(\"\\n\")\n",
    "\n",
    "    return data"
   ]
  },
  {
   "cell_type": "code",
   "execution_count": 26,
   "id": "b1121393-44b6-41e0-b9bf-7d1f4bb0a622",
   "metadata": {},
   "outputs": [],
   "source": [
    "filepath=\"C:\\\\Users\\\\adeoy\\\\Downloads\\\\\"\n",
    "filename=\"rosalind_iprb (3).txt\"\n",
    "\n",
    "data = get_rosalind_data(filepath, filename)\n",
    "\n",
    "proba = probability(data)"
   ]
  },
  {
   "cell_type": "code",
   "execution_count": 75,
   "id": "9b781674-84c5-4d05-b4c3-648d8ff391de",
   "metadata": {},
   "outputs": [
    {
     "data": {
      "text/plain": [
       "0.7529027576197388"
      ]
     },
     "execution_count": 75,
     "metadata": {},
     "output_type": "execute_result"
    }
   ],
   "source": [
    "proba"
   ]
  },
  {
   "cell_type": "markdown",
   "id": "b5eda6a8-5362-45d0-bc83-03dda8ef6b42",
   "metadata": {},
   "source": [
    "# Translating RNA into Protein"
   ]
  },
  {
   "cell_type": "code",
   "execution_count": 27,
   "id": "a07d08e7-7e07-4a8f-8593-113fce3ada45",
   "metadata": {},
   "outputs": [],
   "source": [
    "from gazpacho import get, Soup\n",
    "import csv"
   ]
  },
  {
   "cell_type": "code",
   "execution_count": 28,
   "id": "391aeb52-01c5-4001-b1cc-ad94ea55eacb",
   "metadata": {},
   "outputs": [],
   "source": [
    "url = \"http://rosalind.info/glossary/rna-codon-table/\"\n",
    "html = get(url)\n",
    "soup = Soup(html)\n",
    "glossary_terms = soup.find(\"div\", {\"class\": \"glossary-term\"})\n",
    "RNA_codon_table = glossary_terms.find(\"pre\").text"
   ]
  },
  {
   "cell_type": "code",
   "execution_count": 29,
   "id": "b1628987-79d7-4363-bfb2-d8d698188f0e",
   "metadata": {},
   "outputs": [],
   "source": [
    "RNA_codon_table = RNA_codon_table.replace(\"\\n\", \",\").replace(\"     \", \",\").replace(\"    \", \",\").replace(\"      \", \",\")\n",
    "RNA_codon_table = RNA_codon_table.replace(\"   \", \",\")\n",
    "RNA_codon_table = RNA_codon_table.replace(\", \", \",\")\n",
    "RNA_codon_table = RNA_codon_table.replace(\" \", \":\").split(\",\")"
   ]
  },
  {
   "cell_type": "code",
   "execution_count": 30,
   "id": "705ac559-330c-44c7-b23b-b3edd08dfe32",
   "metadata": {},
   "outputs": [
    {
     "data": {
      "text/plain": [
       "{'UUU': ['F'],\n",
       " 'CUU': ['L'],\n",
       " 'AUU': ['I'],\n",
       " 'GUU': ['V'],\n",
       " 'UUC': ['F'],\n",
       " 'CUC': ['L'],\n",
       " 'AUC': ['I'],\n",
       " 'GUC': ['V'],\n",
       " 'UUA': ['L'],\n",
       " 'CUA': ['L'],\n",
       " 'AUA': ['I'],\n",
       " 'GUA': ['V'],\n",
       " 'UUG': ['L'],\n",
       " 'CUG': ['L'],\n",
       " 'AUG': ['M'],\n",
       " 'GUG': ['V'],\n",
       " 'UCU': ['S'],\n",
       " 'CCU': ['P'],\n",
       " 'ACU': ['T'],\n",
       " 'GCU': ['A'],\n",
       " 'UCC': ['S'],\n",
       " 'CCC': ['P'],\n",
       " 'ACC': ['T'],\n",
       " 'GCC': ['A'],\n",
       " 'UCA': ['S'],\n",
       " 'CCA': ['P'],\n",
       " 'ACA': ['T'],\n",
       " 'GCA': ['A'],\n",
       " 'UCG': ['S'],\n",
       " 'CCG': ['P'],\n",
       " 'ACG': ['T'],\n",
       " 'GCG': ['A'],\n",
       " 'UAU': ['Y'],\n",
       " 'CAU': ['H'],\n",
       " 'AAU': ['N'],\n",
       " 'GAU': ['D'],\n",
       " 'UAC': ['Y'],\n",
       " 'CAC': ['H'],\n",
       " 'AAC': ['N'],\n",
       " 'GAC': ['D'],\n",
       " 'UAA': ['Stop'],\n",
       " 'CAA': ['Q'],\n",
       " 'AAA': ['K'],\n",
       " 'GAA': ['E'],\n",
       " 'UAG': ['Stop'],\n",
       " 'CAG': ['Q'],\n",
       " 'AAG': ['K'],\n",
       " 'GAG': ['E'],\n",
       " 'UGU': ['C'],\n",
       " 'CGU': ['R'],\n",
       " 'AGU': ['S'],\n",
       " 'GGU': ['G'],\n",
       " 'UGC': ['C'],\n",
       " 'CGC': ['R'],\n",
       " 'AGC': ['S'],\n",
       " 'GGC': ['G'],\n",
       " 'UGA': ['Stop'],\n",
       " 'CGA': ['R'],\n",
       " 'AGA': ['R'],\n",
       " 'GGA': ['G'],\n",
       " 'UGG': ['W'],\n",
       " 'CGG': ['R'],\n",
       " 'AGG': ['R'],\n",
       " 'GGG': ['G']}"
      ]
     },
     "execution_count": 30,
     "metadata": {},
     "output_type": "execute_result"
    }
   ],
   "source": [
    "gene_to_amino_code = {}\n",
    "\n",
    "for code in RNA_codon_table:\n",
    "    code = code.split(\":\")\n",
    "    if code[0] in gene_to_amino_code.keys():\n",
    "        gene_to_amino_code[code[0]].append(code[1])\n",
    "    else:\n",
    "        gene_to_amino_code[code[0]] = []\n",
    "        gene_to_amino_code[code[0]].append(code[1])\n",
    "        \n",
    "gene_to_amino_code"
   ]
  },
  {
   "cell_type": "code",
   "execution_count": 36,
   "id": "e4f9713b-2dda-4a17-aa72-018b8d327038",
   "metadata": {},
   "outputs": [],
   "source": [
    "filepath = \"C:\\\\Users\\\\adeoy\\\\Downloads\\\\\"\n",
    "filename = \"rosalind_prot (1).txt\"\n",
    "\n",
    "data = get_rosalind_data(filepath, filename)"
   ]
  },
  {
   "cell_type": "code",
   "execution_count": 32,
   "id": "e4d187be-2c7f-4d85-9924-9c37b9baf133",
   "metadata": {},
   "outputs": [],
   "source": [
    "global gene_to_amino_code\n",
    "\n",
    "def translate(RNA):\n",
    "    counter = 0\n",
    "    protein = \"\"\n",
    "    for i in range(len(RNA)//3):\n",
    "        protein += gene_to_amino_code[RNA[counter:counter+3]][0]\n",
    "        counter += 3\n",
    "        if gene_to_amino_code[RNA[counter:counter+3]][0] == \"Stop\":\n",
    "            protein = protein.replace(\"Stop\", \"\")\n",
    "            break\n",
    "        \n",
    "    return protein"
   ]
  },
  {
   "cell_type": "code",
   "execution_count": 33,
   "id": "d1a10bfb-2668-4800-9699-75f615b9fbb9",
   "metadata": {},
   "outputs": [],
   "source": [
    "RNA = data"
   ]
  },
  {
   "cell_type": "code",
   "execution_count": 208,
   "id": "98ac8a9e-f74a-4c46-96fc-b79977569b57",
   "metadata": {},
   "outputs": [],
   "source": [
    "protein = translate(RNA)"
   ]
  },
  {
   "cell_type": "code",
   "execution_count": 209,
   "id": "b4ea1be3-d580-4019-80d3-e8c7a0575ea8",
   "metadata": {},
   "outputs": [
    {
     "data": {
      "text/plain": [
       "'MKETSVPFRSPPTLSAPLSAMGIATSLRTVLSPFTLGTNILSPVLGARFRCTSATLFWFQRDEPLSVAENIICLFQSTEGNGYGCQPTARLVFERERGLTCAEKASQNVNWADRCLPGVVGYKMAIKELHEGLGHSCMAILQRICLFWLRRQSVLAGYSSLKTTSCTVITPLLSWNEIQTERRKALGLNVGLNILGGSLQVGLGWSCRSPLSHLGAQRKRSSINLPGHYRPPTRVVLGSFGSSTYKARKRLLNLKTAKKLIHLSMCCKSWSGRSAKPVRGCEILALRPLSTRLISWLHVGTICGVRIQTLTLDKPESTTRTCLEIGTRKQCPSRRVNTPVSLANGQLYTSYSADMGPSGYKHDRYSVYMIIGAHNDLSGLTDSWLVNGDPPAPRTPSTSVLAISARRSVVRSCRAFARVGIPRLFRLLIPLSEHRPGDGMVLSISKTTYCFTDTRNHLPSLNFVGLLQSGLVTSFGTWFLRSCAVLDTQWARMVLINPYYNVALKVDSTFLTSLATTEPVLSLSASRGRTEDPGVTYSIGAISWQFVIQNAIIAHCVLVACSTKWRRIDNRANFQPLPSMAEIPLLKPLPCVNNGELQNIKAWARSSDGDQITIQRAFISPPSYGGLSTGVLRYSVLRLFMGLHAPQGKISPLPNQAGRDMRVKVCRGTHYVLGNWIALGRHCVRLVRVTCVDSLVNYLSREPLAPKAINLENIMGTNPCLLQLRDPNPSRENLLPLLNDPGAAHLREDEIVLKVLVHRVCSMDDHKTIMQVLNTRGPALTRSWSLLPGLWRGILAKRNEYGRGNDLYGDQRDTMRLLRERGVDPGAIGSQRDIFAPLCSRGWSDARFFGPSGMTVRISGSFWGEQVKNNDCVSIGPALYRRERRVSFDSLDDRKSIPLKITSDASMQFKHPSSIKRQWGVTGTFRMLCPHHAQFSIHGSDWRLYSDMNFPCVPRFSLVGSTQGPNSTLSITTCHHVLFFTLKSCRLAGGQKCVYLHIGDVLELNDGVDKDSGSLDIIRGILRAVPAGTPDKVSPRFGPAFPSLLQHKGLARTQYIGPRAHQSFQIISGRRHSDDLPSRLLARPVTNPGRMALETSLCDFMNFAFSRGCTSESCHSRKEVPWSRFYVYLPKRSIRALEMSMYISIRVNPPVCRPHLKLQRSKPMGVPHMARKLPLSDTKFDSPRRKRLERIFSSINLLSYWSASSLSLSDQTRTCGLRLIQIFITIPSLQAQSFPIARAGREIARYPPCAERGDDRTPSFSTDWSGSRQQLAQQKCMRGTTPLLPTVVPKELPLPARRWQPVASSRLVLVTLSSALTSTPAFSAPEGWYLRVNRRRFYCVMVFLARGAVGTGCPKYSLPWLSAAGDGRNARLPRRVAGLLGAARRYGAIRRTENLGRADIPVARLVPKKRPCHRQTAITGLMRDIRSRFSRFRIIQYKGYLLLAPFNAPLGLNAAYQDTIQVLGLYGQFQTSTNKSAIVRWTSMKQRAGQGSMTTSHPPAISDICMSHPRRPRRRALVAQGVRDSLIHLAYRSDLVAWPHSVDLHPRTTLVSTLTCGRMMSERPDGYTFLLIRCIRIWRNRIYMLSFYMSSEGTRVHDQCLRIHHSPKERQRHRPSRQSATGEHKTLTVSAPRKVMRITHSARQTVTGRSAKRVVKLLVTTIVQSQRDRHNIDGSPLASKRESKGCPTARNTRVGERHKFGTVISGSPIRDSYLRARWVISLRPVSRAKFSFIGADAAPHTIVTCRSGPLSTTYATPHWLGSTVAFAGRPVEGLPFHPRIPGHDIPSCVYGGTRISVPFVYEIKHVNTDGSQTTKQLTFNDGRFDPLVVSLGQSKVLLRSCLGRRSIRYSASTVTYMVGYSVLCFTSVACQSGWFLCCPAGYRSIGVSSDWVLKVRLEFQVDGAVQLATFPHHARHRGRSARQGKITSQRQSSITVYELSSLPWSREANQHKLNKQEVSSVRLSYRQLIVAPRCYDIQIDRNCWRCIDALRYAEGMGKFLRSGRAMDTRSLHPRKDTEGPPHLTISIDADPSIRCKRGMSFLVTNDLFSKCWITDYRRSCWCTVRPGVCPEECTKVPPVLRAFCRSTLLHIPLCPATLPMPCKAKVTCELPALQDEWHCLTAVCALRFNLIGVGNEGVREVCRLYTGGRKVLSGNRPIVAGEWDLINIPDLQIHCTCSDTDVVLRASHLNCNRGKQSPCRSERPSLVLQHLEPARQREEAPPISLASPFARAATEFVVEPTFDSRSGATSIMGSSSSLRRRLSTDVCSERPVCFIDQRVDSVVVRAREDGTFTVRIPHYSLTSAKSGIKWRGSNHLLMKRLISAIAIWHNTRDAPCKRYKVGPLNQTKGSINSGLQHYSPSHRDRYSLGPSPDRVLHERVGPVRVYRMVGERVCKFNVMCCRRATSTSPSCVKLDLSKVPTRQSPSLVENLYNLLKLYLSNCTTLVPGALSAGSVHRSLYLVKEGPPRCFGCYYAVPGKGRAGVQTERRARITVTTPLVRHSEFLCAVSSRRLLDSGCNRIVLDCWLSEHRGTQVCHRTTIGDIHSLSLPTLDERPNVGLWYRTRRRLVTHREANQSSQKRLSIADKQLRQETSLTIGGLNYIGRIVRCTRQFNLTRQYHVRSRTEHYLGKLGHRPQPSTSLMSTIYLASCTIGSTLTMLYGYFRKESLRDDDSKSSDLYVPSHSTLASCANRWLKKISIAHYPQGTEAILVVNHYKAIYMRPFFDARLHEVRDNGAAPDTNGIFFVNTTSIFLIRTYFTARGPRAVSGAHGIKFGSPLNGDGRLSHLFLPANCVSGRRHLCHLRLILTGLPVRYFSDAADLPPPADAVRARCKLHLINPSHARRSVQHKSNSRIHTNQPLYVIGTGEIGTGLGELIQTTPLHHRRLNVIDVPLSLSKACEH'"
      ]
     },
     "execution_count": 209,
     "metadata": {},
     "output_type": "execute_result"
    }
   ],
   "source": [
    "protein"
   ]
  },
  {
   "cell_type": "markdown",
   "id": "8f945ae4-26dd-473a-a30c-5445b509f18b",
   "metadata": {},
   "source": [
    "### alternative using skbio"
   ]
  },
  {
   "cell_type": "code",
   "execution_count": 1,
   "id": "94973981-ba4c-4b79-ae16-8be1d5ae5201",
   "metadata": {},
   "outputs": [
    {
     "ename": "ModuleNotFoundError",
     "evalue": "No module named 'skbio'",
     "output_type": "error",
     "traceback": [
      "\u001b[1;31m---------------------------------------------------------------------------\u001b[0m",
      "\u001b[1;31mModuleNotFoundError\u001b[0m                       Traceback (most recent call last)",
      "\u001b[1;32m<ipython-input-1-ae167044f450>\u001b[0m in \u001b[0;36m<module>\u001b[1;34m\u001b[0m\n\u001b[1;32m----> 1\u001b[1;33m \u001b[1;32mimport\u001b[0m \u001b[0mskbio\u001b[0m\u001b[1;33m\u001b[0m\u001b[1;33m\u001b[0m\u001b[0m\n\u001b[0m",
      "\u001b[1;31mModuleNotFoundError\u001b[0m: No module named 'skbio'"
     ]
    }
   ],
   "source": [
    "import skbio"
   ]
  },
  {
   "cell_type": "markdown",
   "id": "a7e6d3c4-282e-41e6-b436-5c9beb679399",
   "metadata": {},
   "source": [
    "# Finding a Motif in a DNA"
   ]
  },
  {
   "cell_type": "code",
   "execution_count": 57,
   "id": "9c218360-c77b-4b73-8b1e-28c7c581bd0b",
   "metadata": {},
   "outputs": [],
   "source": [
    "def find_motif(parent, child):\n",
    "    loc = []\n",
    "    for i in range(len(parent)):\n",
    "        try:\n",
    "            loc.append(parent.index(child,i, i+len(child)) + 1)\n",
    "        except ValueError:\n",
    "            continue\n",
    "    motifs = \"\"\n",
    "    for loc in motif_locations:\n",
    "        motifs += \" \" + str(loc)        \n",
    "    return motifs"
   ]
  },
  {
   "cell_type": "code",
   "execution_count": 58,
   "id": "195c8890-cc57-4bbf-8c91-c0bf088d97f5",
   "metadata": {},
   "outputs": [],
   "source": [
    "filepath=\"C:\\\\Users\\\\adeoy\\\\Downloads\\\\\"\n",
    "filename=\"rosalind_subs.txt\"\n",
    "\n",
    "data = get_rosalind_data(filepath, filename, readlines=True)"
   ]
  },
  {
   "cell_type": "code",
   "execution_count": 59,
   "id": "36fb212f-36fc-433f-b599-93429f79be18",
   "metadata": {},
   "outputs": [],
   "source": [
    "parent = data[0]\n",
    "child = data[1]\n",
    "motif_locations = find_motif(parent, child)"
   ]
  },
  {
   "cell_type": "code",
   "execution_count": 60,
   "id": "e61313e1-0572-40b9-9bbf-eff217cc332a",
   "metadata": {},
   "outputs": [
    {
     "data": {
      "text/plain": [
       "' 28 75 124 131 138 155 170 177 283 312 378 404 469 514 540 608 702 739'"
      ]
     },
     "execution_count": 60,
     "metadata": {},
     "output_type": "execute_result"
    }
   ],
   "source": [
    "motif_locations\n"
   ]
  },
  {
   "cell_type": "code",
   "execution_count": 51,
   "id": "b904418f-4ab1-476e-b15e-b9874cf88a3b",
   "metadata": {},
   "outputs": [
    {
     "data": {
      "text/plain": [
       "[2, 4, 10]"
      ]
     },
     "execution_count": 51,
     "metadata": {},
     "output_type": "execute_result"
    }
   ],
   "source": [
    "loc"
   ]
  },
  {
   "cell_type": "markdown",
   "id": "5df81267-774c-4242-bd56-c671b1f28087",
   "metadata": {},
   "source": [
    "# Consensus and Profile"
   ]
  },
  {
   "cell_type": "code",
   "execution_count": 156,
   "id": "63375a69-3b19-44c7-8114-4670d4b0a900",
   "metadata": {},
   "outputs": [],
   "source": [
    "import pandas as pd\n",
    "\n",
    "def get_consensus_and_profile(data_reader):\n",
    "    profile_matrix = pd.DataFrame(index=[\"A\", \"C\", \"G\", \"T\"])\n",
    "    data = {}\n",
    "\n",
    "    for ff in data_reader:\n",
    "        header, seq = ff\n",
    "        data[header] = seq\n",
    "\n",
    "    DNA_strings = list(data.values())\n",
    "\n",
    "    for column in range(len(DNA_strings[0])):  \n",
    "        string_in_columns = ''\n",
    "        for string in DNA_strings:\n",
    "                string_in_columns += string[column]\n",
    "        for base in profile_matrix.index: \n",
    "            counter = Counter(string_in_columns)\n",
    "            profile_matrix.loc[base, column] = int(counter[base])\n",
    "\n",
    "    consensus = \"\".join(list(profile_matrix.idxmax(axis=0)))\n",
    "    profile_matrix_str = {}\n",
    "\n",
    "    with open(\"rosalind_c_and_p.txt\", \"w\") as f:\n",
    "        f.write(consensus+\"\\n\")\n",
    "        for base in profile_matrix.index:\n",
    "            profile_matrix_str[base] = \" \".join(str(int(e)) for e in list(profile_matrix.loc[base]))\n",
    "            print(base + \":\" + f\" {profile_matrix_str[base]}\")\n",
    "            f.write(base + \":\" + f\" {profile_matrix_str[base]}\\n\")\n",
    "    \n",
    "    return consensus, profile_matrix_str"
   ]
  },
  {
   "cell_type": "code",
   "execution_count": 157,
   "id": "5a369ddb-9f67-4bee-9e0e-8a902a68bcb2",
   "metadata": {},
   "outputs": [
    {
     "name": "stdout",
     "output_type": "stream",
     "text": [
      "A: 4 2 3 3 0 2 3 2 3 3 2 3 2 4 0 1 6 3 2 3 3 3 4 3 6 2 4 2 2 3 1 4 1 7 4 3 3 2 1 4 3 3 2 2 1 2 3 5 0 2 5 1 3 1 5 6 0 2 0 3 2 2 2 2 5 4 3 2 2 6 2 2 3 5 1 2 3 4 4 2 2 4 5 1 5 2 3 3 3 3 3 4 2 3 2 2 4 3 2 3 6 3 1 3 5 3 1 3 3 3 1 0 1 4 4 2 3 3 4 2 4 0 3 3 3 3 1 4 2 3 2 1 1 2 0 4 1 4 0 4 2 3 4 4 5 4 1 1 0 4 1 1 2 2 3 2 1 0 1 1 2 4 5 3 3 3 2 0 3 4 2 2 4 1 1 4 4 3 1 2 2 2 2 0 4 2 1 5 1 2 4 2 4 1 3 2 3 4 3 3 1 6 2 3 1 3 3 2 3 1 1 2 2 3 3 3 0 1 1 2 1 4 3 4 5 4 1 3 3 4 2 2 2 2 4 3 1 1 0 2 4 0 3 2 3 0 2 2 3 4 3 1 0 3 5 4 2 0 1 2 3 3 2 1 4 3 1 4 4 2 3 3 2 2 2 3 4 5 2 4 3 3 3 3 2 0 3 2 2 2 4 3 5 4 2 4 4 1 2 1 5 2 4 3 2 1 3 3 2 1 4 3 3 4 2 4 2 0 1 0 1 5 2 2 1 1 0 1 3 3 4 1 1 4 1 4 0 3 3 1 4 2 3 3 1 1 1 2 1 1 3 1 3 1 1 4 3 3 2 2 2 0 2 2 4 3 2 3 1 2 4 1 3 2 0 2 4 1 4 3 5 3 5 4 2 3 3 4 0 2 0 0 2 4 1 0 4 5 0 3 1 2 3 3 3 4 3 2 2 1 5 1 2 3 2 4 5 6 5 4 0 0 2 3 2 3 1 2 3 3 3 4 3 1 4 2 1 3 2 4 3 3 1 3 3 5 3 3 3 2 1 2 1 1 4 2 5 2 2 3 3 2 2 0 3 3 3 1 4 4 3 4 1 3 4 3 2 1 2 4 2 2 2 4 1 5 2 2 2 3 4 3 3 3 2 4 4 0 1 3 4 5 3 3 1 2 3 3 1 3 2 4 2 3 3 2 2 3 3 3 3 2 3 1 5 2 4 4 1 1 2 3 1 3 2 2 1 2 3 0 2 1 3 4 1 2 1 3 1 3 0 3 0 1 1 2 1 3 4 3 3 3 4 2 2 4 2 1 4 2 3 0 4 0 7 3 0 4 2 1 1 2 0 2 3 4 0 2 3 2 2 1 4 6 1 3 7 2 3 4 2 4 3 2 2 1 3 4 3 5 2 1 2 3 3 2 4 2 3 1 5 5 3 6 3 3 2 3 3 3 2 1 1 1 3 1 1 1 2 3 2 3 2 3 2 4 1 3 1 2 3 2 0 2 3 1 1 3 3 2 3 3 3 2 2 3 2 3 3 3 2 2 2 2 4 2 3 2 1 4 5 1 0 2 7 1 6 1 2 1 1 2 1 4 4 1 1 3 4 2 3 2 1 3 2 1 2 3 3 1 2 1 2 0 0 3 4 2 0 3 2 1 1 1 3 4 0 2 4 2 2 3 2 1 3 1 4 2 5 3 4 3 2 5 6 1 3 4 3 5 3 2 3 1 1 2 3 4 2 2 4 1 3 1 0 3 0 3 6 4 3 3 2 1 2 3 2 0 2 3 0 3 2 2 3 1 1 4 1 2 3 3 3 3 3 2 2 3 5 5 0 0 3 2 4 1 8 1 4 4 1 2 1 2 2 2 4 3 4 3 4 3 1 2 2 3 1 0 6 2 2 2 4 3 0 0 4 3 1 2 3 2 2 2 2 3 3 4 5 3 3 2 3 6 5 4 5 3 4 1 3 2 3 4 3 6 1 2 0 4 2 3 2 2 5 3 3 4 5 3 2 3 0 3 3 3 1 6 3 4 1 3 3 2 3 3 3 5 2 5 2 3 0 3 2 2 3 6 3 3 0 1 2 1 6 0 2 3 3 1 2 3 1 2 1 4 2\n",
      "C: 3 2 3 1 5 3 2 2 1 3 1 0 2 1 1 4 1 2 3 0 3 3 2 2 2 2 2 3 2 2 3 3 2 0 2 2 0 3 2 2 4 3 0 5 2 1 3 3 4 2 3 5 2 1 1 0 4 3 3 3 2 1 0 3 3 3 4 3 4 2 1 1 0 1 4 3 2 4 1 2 3 2 1 3 4 6 0 5 1 0 4 1 3 1 2 5 3 3 1 3 2 0 3 1 1 1 2 3 4 3 2 3 1 1 1 4 2 3 1 2 2 3 2 2 3 2 5 2 3 3 2 1 3 1 3 1 5 3 4 1 2 2 1 2 1 2 4 2 2 2 0 2 1 3 1 1 3 2 2 5 3 3 2 3 2 2 3 2 2 3 2 2 1 1 3 2 3 2 2 5 3 1 2 3 2 2 0 2 4 0 2 2 2 4 1 3 3 1 3 0 2 0 1 4 1 0 2 3 2 2 4 5 3 3 3 1 1 3 2 3 4 0 0 5 1 2 6 4 2 2 2 2 3 5 3 2 3 5 3 4 3 3 2 3 2 6 3 5 2 3 0 3 2 3 2 2 2 5 1 1 2 0 1 2 3 2 1 2 3 2 2 4 1 4 4 4 2 1 1 2 1 1 2 3 2 4 2 2 2 2 0 3 1 2 3 1 3 4 3 1 1 4 4 1 3 4 2 3 3 4 3 5 3 1 2 2 2 5 3 4 3 2 2 2 4 4 1 2 4 1 1 5 2 3 5 3 3 1 3 1 3 3 3 2 2 4 3 2 2 4 2 4 3 6 4 2 0 3 1 3 4 5 4 5 3 2 4 2 4 3 1 2 1 1 3 4 0 5 1 3 3 2 1 1 1 2 3 3 5 1 3 3 1 2 2 1 2 3 2 2 2 3 1 2 3 3 0 3 3 3 3 1 3 5 2 4 1 0 4 3 3 1 2 3 2 3 2 5 2 4 2 3 3 2 3 2 5 2 5 1 2 3 4 3 2 0 0 4 3 1 5 4 2 3 2 4 2 1 3 1 2 3 3 2 2 0 1 3 4 3 3 3 4 2 2 3 1 5 3 4 2 3 3 1 3 2 5 3 4 3 2 2 2 4 2 3 3 1 1 0 2 2 1 0 2 1 4 4 3 3 5 2 1 4 0 4 2 2 1 2 2 2 3 2 1 3 3 2 6 6 3 2 1 2 2 3 5 2 4 4 1 5 1 4 2 2 3 3 4 3 5 4 2 2 4 2 2 1 4 2 0 2 2 2 4 3 2 2 3 2 3 5 0 5 1 0 5 2 1 4 5 4 4 1 3 3 1 2 3 4 3 1 3 1 3 4 0 1 2 3 2 3 1 5 2 1 1 1 0 2 2 2 4 2 2 3 5 2 2 4 2 1 3 2 4 5 2 0 1 2 1 4 2 3 4 4 2 5 3 1 1 2 1 2 3 0 2 1 6 2 1 1 2 1 1 1 5 3 4 1 2 2 3 3 3 3 1 2 1 1 2 4 1 2 2 2 2 2 1 2 1 2 4 4 3 2 1 4 2 5 3 2 3 3 1 3 1 4 2 2 2 2 1 4 3 3 4 3 2 3 2 2 4 4 4 1 3 6 3 3 1 2 6 3 1 2 3 1 2 2 3 2 3 6 3 2 1 5 2 1 0 4 2 0 0 3 5 2 3 1 2 4 3 4 5 4 2 4 3 4 1 6 1 3 2 2 5 4 2 4 3 4 5 2 3 5 2 4 3 2 1 2 3 1 1 4 0 2 2 4 2 2 3 3 4 1 3 2 2 1 7 2 5 2 3 1 2 3 2 1 4 2 4 1 3 2 2 3 1 1 2 2 0 2 2 1 2 8 2 3 4 4 2 3 5 3 1 2 3 6 4 2 4 2 3 1 4 2 1 3 2 4 2 2 4 3 1 4 4 2 1 0 0 2 1 1 4 3 2 2 2 1 2 2 0 3 1 4 2 2 5 2 5 1 2 2 2 2 3 2 6 2 1 2 3 3 1 2 3 2 2 2 2 4 1 3 3 2 3 1 3 6 2 3 0 3 2 1 0 1 1 2 2 2 4 2 2\n",
      "G: 2 1 2 1 3 3 1 3 2 1 1 3 3 2 5 2 0 2 2 1 3 1 3 3 2 2 4 2 3 1 2 1 4 1 1 1 2 4 4 2 2 2 4 2 2 3 2 1 1 3 0 0 2 5 2 1 2 3 3 2 3 3 4 4 1 1 2 3 3 1 2 2 2 3 1 1 4 0 5 2 3 0 2 4 0 0 2 2 3 4 2 2 2 1 3 2 1 2 3 2 1 5 4 3 4 4 2 1 2 2 6 4 3 2 2 3 2 2 1 1 1 4 3 3 3 3 2 3 3 2 2 1 3 1 2 1 1 0 2 2 5 3 2 1 0 3 3 1 6 3 3 5 1 3 2 2 5 2 1 2 1 2 1 2 3 3 2 4 2 1 2 6 2 2 5 2 1 3 3 1 3 4 2 3 2 3 4 3 3 6 3 3 0 3 3 3 1 1 1 6 3 1 4 1 3 3 2 3 3 3 0 2 1 2 1 3 4 4 1 3 4 3 4 1 2 1 3 2 2 3 4 2 2 3 1 3 5 1 4 3 2 4 3 2 4 2 3 1 1 1 3 3 2 2 1 2 3 2 3 2 2 1 3 5 2 3 6 2 2 3 3 2 4 2 1 1 2 2 3 3 4 3 4 2 3 3 1 3 3 3 5 3 4 1 2 1 1 3 2 5 3 0 2 2 0 2 3 2 3 4 0 1 2 2 4 0 4 5 1 3 4 2 5 5 0 1 3 5 2 4 3 4 3 3 2 0 2 1 1 5 2 3 1 1 2 3 4 1 3 1 2 2 3 1 0 2 4 2 3 1 3 1 2 3 0 2 2 1 3 3 3 4 2 3 5 3 4 1 3 2 0 1 1 2 4 2 1 2 3 4 4 5 5 1 4 5 0 0 4 3 4 2 4 2 1 1 5 2 2 0 1 4 2 1 3 1 2 2 1 3 3 3 4 1 2 1 3 2 3 1 2 2 4 3 2 5 4 2 3 3 3 1 3 2 4 2 3 1 3 3 1 2 2 4 1 3 1 3 5 1 2 4 3 3 2 4 1 5 2 0 1 3 3 3 3 2 2 1 0 2 2 2 4 2 3 2 1 3 2 2 3 3 4 1 5 3 2 4 4 4 2 0 3 4 4 3 2 0 3 2 1 2 2 2 2 2 3 1 5 2 4 1 3 5 3 3 2 1 2 2 2 2 4 4 3 3 1 1 3 4 3 2 3 0 2 4 3 2 5 3 2 1 4 4 2 5 5 1 1 2 3 2 1 3 3 3 3 5 1 1 2 2 4 1 2 3 4 3 5 1 1 0 1 4 0 0 4 3 1 1 3 4 1 3 3 0 1 4 1 0 3 3 2 1 3 5 3 2 5 1 2 5 2 4 2 4 1 4 3 2 1 1 2 2 2 1 4 4 2 3 3 1 4 4 0 3 3 2 1 2 3 1 4 1 2 2 2 4 1 3 3 3 4 4 2 5 2 4 2 5 3 2 1 3 1 2 2 3 3 4 3 1 3 4 1 1 3 2 4 1 3 4 4 3 0 2 3 1 6 3 1 4 3 1 4 1 5 1 3 3 3 0 5 0 2 2 0 2 2 2 3 3 3 2 4 2 1 1 3 3 2 3 2 3 3 2 4 5 2 2 4 2 4 1 1 1 3 2 1 1 4 2 3 3 3 2 1 3 1 2 1 1 2 3 2 0 4 1 2 2 2 2 5 5 4 4 3 1 1 1 0 1 2 3 2 1 4 2 2 2 4 1 4 5 2 5 2 1 2 2 2 1 4 1 1 2 3 1 2 1 1 5 0 2 1 5 0 3 1 1 2 4 3 5 3 3 2 2 2 5 4 4 7 1 4 3 4 1 2 3 4 2 1 2 2 4 3 3 2 1 2 2 3 4 3 3 1 3 3 3 1 4 2 2 1 1 4 1 1 4 1 1 4 2 4 3 3 3 3 2 2 3 0 2 3 0 1 1 0 4 2 2 4 3 2 4 4 0 1 2 2 2 2 5 0 2 5 1 4 1 3 2 6 2 5 2 4 2 2 2 1 2 2 5 3 2 4 4 1 2 4 2 2 3 2 1 4\n",
      "T: 1 5 2 5 2 2 4 3 4 3 6 4 3 3 4 3 3 3 3 6 1 3 1 2 0 4 0 3 3 4 4 2 3 2 3 4 5 1 3 2 1 2 4 1 5 4 2 1 5 3 2 4 3 3 2 3 4 2 4 2 3 4 4 1 1 2 1 2 1 1 5 5 5 1 4 4 1 2 0 4 2 4 2 2 1 2 5 0 3 3 1 3 3 5 3 1 2 2 4 2 1 2 2 3 0 2 5 3 1 2 1 3 5 3 3 1 3 2 4 5 3 3 2 2 1 2 2 1 2 2 4 7 3 6 5 4 3 3 4 3 1 2 3 3 4 1 2 6 2 1 6 2 6 2 4 5 1 6 6 2 4 1 2 2 2 2 3 4 3 2 4 0 3 6 1 2 2 2 4 2 2 3 4 4 2 3 5 0 2 2 1 3 4 2 3 2 3 4 3 1 4 3 3 2 5 4 3 2 2 4 5 1 4 2 3 3 5 2 6 2 1 3 3 0 2 3 0 1 3 1 2 4 3 0 2 2 1 3 3 1 1 3 2 3 1 2 2 2 4 2 4 3 6 2 2 2 3 3 5 5 3 6 4 2 1 2 2 2 1 3 2 1 3 2 3 2 2 2 4 1 2 3 1 2 3 3 4 3 3 3 1 1 0 3 3 4 2 2 3 3 1 4 0 4 5 3 2 2 2 1 3 1 2 3 2 4 2 0 5 3 2 1 1 1 5 4 6 2 1 2 2 0 4 0 2 3 5 5 3 3 1 2 3 4 5 2 2 5 4 4 3 3 1 2 5 2 3 2 4 4 1 4 2 0 3 3 2 4 2 2 2 3 4 4 2 1 2 3 2 2 2 4 3 3 3 3 3 1 2 3 3 2 2 3 3 4 4 2 4 2 3 3 2 3 3 2 2 3 3 6 1 4 3 1 3 1 2 2 0 0 4 6 2 3 4 3 4 1 2 2 3 1 0 4 1 1 0 3 0 2 2 3 2 2 1 3 4 2 1 4 3 2 5 2 3 1 2 4 0 5 3 1 2 5 3 3 5 1 0 3 3 0 2 2 1 2 5 3 5 0 4 3 1 3 3 1 2 2 2 2 1 2 1 2 1 0 1 5 4 3 2 3 3 3 3 4 1 3 3 2 2 2 5 1 5 2 3 4 1 3 1 5 1 2 1 2 1 3 1 1 3 3 4 1 3 2 3 5 0 2 4 2 3 2 5 2 3 2 0 1 3 2 4 3 3 1 2 5 1 3 4 3 3 3 1 0 3 2 2 5 2 3 2 4 0 4 1 1 2 4 3 4 5 3 4 3 5 3 3 3 2 4 2 0 3 3 2 3 4 3 3 0 4 2 3 3 3 3 2 2 4 2 2 1 3 1 0 2 2 3 2 3 2 0 1 1 2 3 4 2 4 4 3 2 3 2 4 2 4 4 4 4 3 4 3 4 5 2 2 3 3 4 4 3 4 3 2 0 1 2 2 3 3 2 4 2 5 2 3 2 3 3 4 2 3 5 2 4 4 3 1 3 2 1 0 5 0 4 0 1 5 2 3 2 1 5 3 2 1 3 2 6 3 3 3 4 4 2 3 4 3 4 1 4 2 4 2 1 4 1 5 4 1 3 3 2 3 2 2 4 1 3 1 2 3 6 2 1 2 5 2 1 3 2 1 4 1 1 3 2 4 3 2 2 2 4 1 1 3 2 3 1 1 1 4 1 2 2 1 1 4 2 1 4 3 1 2 4 3 3 5 4 1 2 4 0 7 3 5 2 3 4 0 3 2 5 2 4 1 3 2 3 2 4 2 3 0 3 3 4 3 2 2 2 2 3 2 2 3 1 0 1 2 5 2 3 3 1 0 2 0 2 3 2 3 3 2 2 4 1 1 4 1 2 2 3 2 1 1 1 4 0 3 0 0 2 0 2 1 3 5 7 3 2 2 0 2 2 5 2 4 3 6 4 2 4 5 1 3 1 1 3 1 3 3 1 3 2 3 2 1 3 4 1 4 2 1 2 1 2 3 3 2 1 2 3 0 0 2 4 6 1 4 1 1 5 2 2 6 6 3 3 5 3 3 3 2\n"
     ]
    }
   ],
   "source": [
    "filepath=\"C:\\\\Users\\\\adeoy\\\\Downloads\\\\\"\n",
    "filename= \"rosalind_cons.txt\"\n",
    "fiter = fasta_iter(filepath+filename)\n",
    "\n",
    "\n",
    "consensus, profile_matrix_str = get_consensus_and_profile(fiter)"
   ]
  },
  {
   "cell_type": "markdown",
   "id": "0f5a98b4-206e-438a-ba1d-f56820d57782",
   "metadata": {},
   "source": [
    "# Mortal Fibonacci Rabbits"
   ]
  },
  {
   "cell_type": "code",
   "execution_count": 7,
   "id": "905842f2-01d7-41ae-b6a5-84c2cd45f6cd",
   "metadata": {},
   "outputs": [],
   "source": [
    "def fibonacci_mem(n, m):                                                                        \n",
    "    bunnies = [1, 1]                                                               \n",
    "    months = 2  \n",
    "    count = []\n",
    "    while months < n:                                                              \n",
    "        if months < m:                                                             \n",
    "            bunnies.append(bunnies[-2] + bunnies[-1])                              \n",
    "        elif months == m or count == m + 1:                                        \n",
    "            bunnies.append(bunnies[-2] + bunnies[-1] - 1)                          \n",
    "        else:                                                                      \n",
    "            bunnies.append(bunnies[-2] + bunnies[-1] - bunnies[-(                  \n",
    "                m + 1)])                                                           \n",
    "        months += 1\n",
    "    return bunnies[-1]\n",
    "\n",
    "\n"
   ]
  },
  {
   "cell_type": "code",
   "execution_count": 9,
   "id": "6a68c313-dac0-44dd-9c95-7af550299161",
   "metadata": {},
   "outputs": [
    {
     "data": {
      "text/plain": [
       "677623885055661681"
      ]
     },
     "execution_count": 9,
     "metadata": {},
     "output_type": "execute_result"
    }
   ],
   "source": [
    "fibonacci_mem(87,19)"
   ]
  },
  {
   "cell_type": "markdown",
   "id": "c234007e-dad4-48b9-98da-8a9572748c7a",
   "metadata": {},
   "source": [
    "# Overlap Graphs"
   ]
  },
  {
   "cell_type": "code",
   "execution_count": 72,
   "id": "f1f787dd-39d7-4438-8328-5e12c1e90702",
   "metadata": {},
   "outputs": [],
   "source": [
    "import os"
   ]
  },
  {
   "cell_type": "code",
   "execution_count": 122,
   "id": "d132dcfa-9166-4a08-a43e-517df986043b",
   "metadata": {},
   "outputs": [],
   "source": [
    "def read_fasta(filename):\n",
    "    \n",
    "    with open(filename, \"r\") as f:\n",
    "        seqs = f.readlines()\n",
    "\n",
    "    sequences = {}\n",
    "    for line in seqs:\n",
    "        if \">\" in line:        \n",
    "            key = line.strip(\">\").strip(\"\\n\")\n",
    "            sequences[key] = \"\"\n",
    "        else:\n",
    "            sequences[key] += line.strip(\"\\n\")\n",
    "            \n",
    "    return sequences"
   ]
  },
  {
   "cell_type": "code",
   "execution_count": 123,
   "id": "c6b0a724-ab37-4cf9-9ed9-3f2f427285af",
   "metadata": {},
   "outputs": [],
   "source": [
    "desktop = os.path.join(os.path.expanduser(\"~\"), \"Downloads\")\n",
    "filepath = os.path.join(desktop, \"rosalind_grph.txt\")\n",
    "sequences = read_fasta(filepath)"
   ]
  },
  {
   "cell_type": "code",
   "execution_count": 75,
   "id": "aae24d68-0adf-4350-b8b1-d42189ed56d8",
   "metadata": {},
   "outputs": [],
   "source": [
    "k = 3\n",
    "li = []\n",
    "for key, value in sequences.items():   \n",
    "    for comp_key, comp_value in sequences.items():\n",
    "        if key != comp_key:\n",
    "            if value[len(value)-k:] == comp_value[:k]:\n",
    "                li.append((key, comp_key))\n",
    "                #print(key, comp_key)"
   ]
  },
  {
   "cell_type": "markdown",
   "id": "e60d79d5-e55d-4906-aa98-563e98b1a8ad",
   "metadata": {},
   "source": [
    "# Calculating Expected Offspring"
   ]
  },
  {
   "cell_type": "code",
   "execution_count": 69,
   "id": "e00f0401-b088-4027-aa11-ec7e58006e7a",
   "metadata": {},
   "outputs": [],
   "source": [
    "desktop = os.path.join(os.path.expanduser(\"~\"), \"Downloads\")\n",
    "filename = \"rosalind_iev (1).txt\"\n",
    "filepath = os.path.join(desktop, filename)\n",
    "f = open(filepath)\n",
    "data = [int(dat) for dat in f.read().strip(\"\\b\").split(\" \")]"
   ]
  },
  {
   "cell_type": "code",
   "execution_count": 70,
   "id": "5f073807-e16a-4f43-8c4d-8f7aab8bb854",
   "metadata": {},
   "outputs": [],
   "source": [
    "expected = (data[0]*1 + data[1]*1 + data[2]*1+ data[3]*0.75 + data[4]*0.5 + data[5]*0)*2"
   ]
  },
  {
   "cell_type": "code",
   "execution_count": 71,
   "id": "56ad76a0-0b9f-4b58-ad12-a71ec3a0bef1",
   "metadata": {},
   "outputs": [
    {
     "data": {
      "text/plain": [
       "149015.0"
      ]
     },
     "execution_count": 71,
     "metadata": {},
     "output_type": "execute_result"
    }
   ],
   "source": [
    "expected"
   ]
  },
  {
   "cell_type": "markdown",
   "id": "97c3bab5-ec4e-42c6-be3c-b3eb7d2a09ed",
   "metadata": {},
   "source": [
    "# Finding a Shared Motif"
   ]
  },
  {
   "cell_type": "code",
   "execution_count": 124,
   "id": "d49ef7b1-2f03-48a0-a523-f493ffb140d3",
   "metadata": {},
   "outputs": [],
   "source": [
    "def find_lcs(S, T):\n",
    "\n",
    "    m = len(S)\n",
    "    n = len(T)\n",
    "    counter = [[0]*(n+1) for x in range(m+1)]\n",
    "    longest = 0\n",
    "    lcs_set = []\n",
    "    \n",
    "    for i in range(m):\n",
    "        for j in range(n):\n",
    "            if S[i] == T[j]:\n",
    "                c = counter[i][j] + 1\n",
    "                counter[i+1][j+1] = c\n",
    "                if c > longest:\n",
    "                    lcs_set = []\n",
    "                    longest = c\n",
    "                    lcs_set.append(S[i-c+1:i+1])\n",
    "                elif c == longest:\n",
    "                    lcs_set.append(S[i-c+1:i+1])\n",
    "                    \n",
    "    return lcs_set\n",
    "\n",
    "def lcs(sequences):\n",
    "    sequences = list(sequences.values())\n",
    "    S = sequences[0]\n",
    "    T = sequences[1]\n",
    "    lcs = find_lcs(S, T)\n",
    "    lcs = max(lcs)\n",
    "    for i, seq in enumerate(sequences[2:]):        \n",
    "        lcs = max(find_lcs(lcs, seq))\n",
    "    return lcs\n",
    "\n"
   ]
  },
  {
   "cell_type": "code",
   "execution_count": 126,
   "id": "ce95c840-f56a-4945-aa4b-9a1046b4ceaf",
   "metadata": {},
   "outputs": [],
   "source": [
    "desktop = os.path.join(os.path.expanduser(\"~\"), \"Downloads\")\n",
    "filepath = os.path.join(desktop, \"rosalind_lcsm.txt\")\n",
    "sequences = read_fasta(filepath)"
   ]
  },
  {
   "cell_type": "code",
   "execution_count": 127,
   "id": "1a5b555d-772b-4fd4-b8e8-30fe45a89ee4",
   "metadata": {},
   "outputs": [],
   "source": [
    "ret = lcs(sequences)"
   ]
  },
  {
   "cell_type": "code",
   "execution_count": 128,
   "id": "3f3852aa-0a69-49c5-8abf-fa4ba54c5b65",
   "metadata": {},
   "outputs": [
    {
     "data": {
      "text/plain": [
       "'ATGGTAATCAGCAGGTCTAAGACTGAGGATAAAGGTAACAACTTGGTCAGGGCGGCTATTGGGATGGCCTGAGCGTTCGAGCTCACTCCCGTTGGTAATTATCTACGCTTACATAATGGAATTAAGGTTTTGTTTTAATACATGAAGATAACGGTACATGGAAGATTTAGTTACGCAGCTTGCACGTTATCGGTGACCGTAGACTGGATGGTTCAATTACAG'"
      ]
     },
     "execution_count": 128,
     "metadata": {},
     "output_type": "execute_result"
    }
   ],
   "source": [
    "ret"
   ]
  },
  {
   "cell_type": "markdown",
   "id": "dc410ee4-c956-4618-94fc-d6582799f4a9",
   "metadata": {},
   "source": [
    "# Independent Alleles"
   ]
  },
  {
   "cell_type": "code",
   "execution_count": 2,
   "id": "f83f1383-2916-4e40-a9b9-5f4c8ea9dfc7",
   "metadata": {},
   "outputs": [],
   "source": [
    "import math"
   ]
  },
  {
   "cell_type": "code",
   "execution_count": 10,
   "id": "60b6a8a6-78cf-402f-8c26-fe413147870d",
   "metadata": {},
   "outputs": [],
   "source": [
    "def proba(K, N):\n",
    "    \"\"\"Using binomial distribution\"\"\"\n",
    "    population_at_kth_gen = 2**K\n",
    "    probability = 0\n",
    "    n = population_at_kth_gen\n",
    "    p = 0.25\n",
    "    q = 1 - p\n",
    "    for number in range(N, population_at_kth_gen +1):\n",
    "        x = number\n",
    "        binomial = math.factorial(n)*(p**x)*(q**(n - x))/(math.factorial(n-x)*math.factorial(x))\n",
    "        probability += binomial\n",
    "    return probability"
   ]
  },
  {
   "cell_type": "code",
   "execution_count": 12,
   "id": "d79590c6-70fb-4b6c-a063-ee1ad6258ef0",
   "metadata": {},
   "outputs": [
    {
     "data": {
      "text/plain": [
       "0.3255715702475772"
      ]
     },
     "execution_count": 12,
     "metadata": {},
     "output_type": "execute_result"
    }
   ],
   "source": [
    "proba(6, 18)"
   ]
  },
  {
   "cell_type": "markdown",
   "id": "c214856c-ba59-4920-b364-28e8bccdb79a",
   "metadata": {},
   "source": [
    "# Finding a Protein Motif"
   ]
  },
  {
   "cell_type": "code",
   "execution_count": 1,
   "id": "acd0abce-6b81-4569-a7aa-fa4215691c77",
   "metadata": {},
   "outputs": [],
   "source": [
    "import pandas as pd\n",
    "from gazpacho import Soup, get\n",
    "import os"
   ]
  },
  {
   "cell_type": "code",
   "execution_count": 2,
   "id": "01c2a76f-593c-4376-a2ef-ff5c9ee50573",
   "metadata": {},
   "outputs": [],
   "source": [
    "def get_sequences(uniprot_identifiers):\n",
    "    sequences = {}\n",
    "\n",
    "    for uniprot_identifier in uniprot_identifiers:\n",
    "        \n",
    "        if len(uniprot_identifier) > 6:\n",
    "            temp_id = uniprot_identifier.split(\"_\")[0]\n",
    "        else:\n",
    "            temp_id = uniprot_identifier\n",
    "        \n",
    "        try:\n",
    "            url = f\"https://www.uniprot.org/uniprot/{temp_id}.fasta\"\n",
    "        except NameError:\n",
    "            url = f\"https://www.uniprot.org/uniprot/{temp_id}-1.fasta\"\n",
    "        \n",
    "        html = get(url)\n",
    "        fasta = html.split(\"\\n\")\n",
    "        sequences[uniprot_identifier] = \"\"\n",
    "        \n",
    "        for line in fasta[1:]:\n",
    "            sequences[uniprot_identifier] += line\n",
    "                \n",
    "                #print(f\"The sequence for isoform {isoform_data} is\\n\")\n",
    "                #print(f\"{html}\\n\")\n",
    "\n",
    "\n",
    "    return sequences "
   ]
  },
  {
   "cell_type": "code",
   "execution_count": 3,
   "id": "82f1b5bb-5a52-4cdd-8312-085fe15fe4f8",
   "metadata": {},
   "outputs": [],
   "source": [
    "global amino_acid_codes, n_glyco_motifs\n",
    "\n",
    "amino_acid_codes = pd.read_html(\"https://en.wikipedia.org/wiki/Amino_acid\")[0][\"3- and 1-letter symbols\"][\"1\"]\n",
    "n_glyco_motifs = []\n",
    "\n",
    "for residue_i in list(amino_acid_codes):\n",
    "    if residue_i != \"P\":\n",
    "        for residue_j in list(amino_acid_codes):\n",
    "            if residue_j != \"P\":\n",
    "                n_glyco_motifs.append(\"N\" + residue_i + \"S\" + residue_j)\n",
    "                n_glyco_motifs.append(\"N\" + residue_i + \"T\" + residue_j)\n",
    "    "
   ]
  },
  {
   "cell_type": "code",
   "execution_count": 4,
   "id": "edd05793-573c-45c0-8041-102729d5d44d",
   "metadata": {},
   "outputs": [],
   "source": [
    "def find_prot_motif(sequences):\n",
    "    \n",
    "    loc = {}\n",
    "    for key, value in sequences.items():\n",
    "        loc[key] = []\n",
    "        for motif in n_glyco_motifs:\n",
    "            for i in range(len(value)):           \n",
    "                try:\n",
    "                    loc[key].append(value.index(motif,i, i+len(motif)) + 1)\n",
    "                    loc[key].sort()\n",
    "                except ValueError:\n",
    "                    continue\n",
    "        if len(loc[key]) > 0:\n",
    "            print(key)\n",
    "            print(*loc[key], sep=\" \")\n",
    "                    \n",
    "    return loc"
   ]
  },
  {
   "cell_type": "code",
   "execution_count": 5,
   "id": "ee500fec-6e3b-430d-97cc-ff6cc3da9843",
   "metadata": {},
   "outputs": [],
   "source": [
    "desktop = os.path.join(os.path.expanduser(\"~\"), \"Downloads\")\n",
    "filepath = os.path.join(desktop, \"rosalind_mprt (7).txt\")\n",
    "with open(filepath, \"r\") as f:\n",
    "    uniprot_identifiers = [id.strip(\"\\n\") for id in f.readlines()]"
   ]
  },
  {
   "cell_type": "code",
   "execution_count": 6,
   "id": "0cf318d3-9746-4d03-903d-5d5ef5598bfe",
   "metadata": {},
   "outputs": [
    {
     "data": {
      "text/plain": [
       "['B0RU89',\n",
       " 'P10761_ZP3_MOUSE',\n",
       " 'P33515',\n",
       " 'P24592_IBP6_HUMAN',\n",
       " 'B6DCT5',\n",
       " 'O29347',\n",
       " 'Q8PV50',\n",
       " 'P00748_FA12_HUMAN',\n",
       " 'P10493_NIDO_MOUSE',\n",
       " 'P11171_41_HUMAN',\n",
       " 'Q47A87',\n",
       " 'B3ET80']"
      ]
     },
     "execution_count": 6,
     "metadata": {},
     "output_type": "execute_result"
    }
   ],
   "source": [
    "uniprot_identifiers"
   ]
  },
  {
   "cell_type": "code",
   "execution_count": 7,
   "id": "86834371-efe8-4b82-b9d5-79508bc3350b",
   "metadata": {},
   "outputs": [],
   "source": [
    "sequences = get_sequences(uniprot_identifiers)"
   ]
  },
  {
   "cell_type": "code",
   "execution_count": 8,
   "id": "e3aeb19f-1b45-4991-aab5-a274c296a8db",
   "metadata": {},
   "outputs": [
    {
     "data": {
      "text/plain": [
       "{'B0RU89': 'MEDLMTSYSFTEKKRIRKDFGKQRSILEVPFLLAIQVDSYREFLQEDVEPNKRKDLGLHAALKSVFPISSYSGNAALEYVGYKLGEPVFDERECRQRGMSYGAPLRVTVRLVIYDRESSTKAIKYVKEQEVYLGEIPLMTENGTFIVNGTERVIVSQLHRSPGVFFDHDRGKTHSSGKLLYSARIIPYRGSWLDFEFDPKDALFTRIDRRRKLPVSILLRALGYNNEEMLAEFFEINTFHINPDEGVQLELVPERLRGETLNFDLADGDKVIVEAGKRITARHVKQLEAAGVAALAVPDDYLVGRILSHDVVDGSTGELLANANDEISEDQLAAFRKAGVDAVGTLWVNDLDRGPYLSNTLRIDPTKTQLEALVEIYRMMRPGEPPTKEAAQNLFHNLFFTFERYDLSTVGRMKFNRRVGRKEVLGESVLYDKKYFAERNDEESKRLVAEHADTSDILEVIKVLTEIRNGRGVVDDIDHLGNRRVRSVGEMAENVFRVGLVRVERAVKERLSMAESEGLTPQELINAKPVAAAIKEFFGSSQLSQFMDQNNPLSEVTHKRRVSALGPGGLTRERAGFEVRDVHPTHYGRVCTIETPEGPNIGLINSLAVFARTNQYGFLETPYRKVLDGKVSDDVEYLSAIEENEYVIAQANALTDAKNMLTEQFVPCRFQGESLLKPPAEVHFMDVSPMQTVSVAAALVPFLEHDDANRALMGANMQRQAVPTLRSQKPLVGTGIERAVARDSGVTVNARRGGVIEQIDAARIVVKVNEAEIGGGTDAGVDIYNLIKYTRSNQNTCINQRPLVNVGDVIARGDVLADGPSTDIGELALGQNMLIAFMPWNGYNFEDSILLSERVVEEDRYTTIHIEELTCVARDTKLGPEEISADIPNVSEQALNRLDESGVVYIGAEVRAGDIMVGKVTPKGESQLTPEEKLLRAIFGEKASDVKDSSLRVPPGMDGTVIDVQVFTRDGIEKDKRARQIEESEIKRVKKDFDDQFRILEAAIYARLRSQIVGKVANGGPNLKKGDNVTDAYLDGLKKSDWFQLRMKDDDAADAIERAQKQIQAHEKEFEARFADKRGKITQGDDLAPGVLKMVKVFLAVKRRIQPGDKMAGRHGNKGVVSNVVPVEDMPYMATGEPVDIVLNPLGVPSRMNIGQILEVHLGWAAKGLGRKIQRMLEAQTAVSELRKFLDDIYNHDSAINAERVDLSQFSDEELLNLGKNLIDGVPMATPVFDGASEAEIKRMLELAELPQSGQTQLYDGRTGEAFDRKTTVGYMHYLKLNHLVDDKMHARSTGPYSLVTQQPLGGKAQFGGQRFGEMEVWALEAYGAAYTLQEMLTVKSDDVQGRNQMYKNIVDGEHEMVAGMPESFNVLVKEIRSLAINMELEE',\n",
       " 'P10761_ZP3_MOUSE': 'MASSYFLFLCLLLCGGPELCNSQTLWLLPGGTPTPVGSSSPVKVECLEAELVVTVSRDLFGTGKLVQPGDLTLGSEGCQPRVSVDTDVVRFNAQLHECSSRVQMTKDALVYSTFLLHDPRPVSGLSILRTNRVEVPIECRYPRQGNVSSHPIQPTWVPFRATVSSEEKLAFSLRLMEENWNTEKSAPTFHLGEVAHLQAEVQTGSHLPLQLFVDHCVATPSPLPDPNSSPYHFIVDFHGCLVDGLSESFSAFQVPRPRPETLQFTVDVFHFANSSRNTLYITCHLKVAPANQIPDKLNKACSFNKTSQSWLPVEGDADICDCCSHGNCSNSSSSQFQIHGPRQWSKLVSRNRRHVTDEADVTVGPLIFLGKANDQTVEGWTASAQTSVALGLGLATVAFLTLAAIVLAVTRKCHSSSYLVSLPQ',\n",
       " 'P33515': 'MKRKDLEARGKAPGRDSSTPFWGREGRRKDKDKGGESPSNRQVTLKTPIQSGRRAGKRQRVGLLGRLGVGWGSFLQEDIVQALIHMALVLHALFASIDRRIRSLSRRVTALESRRTTGNPMTLAFILGFLTVLCGCVVIDMQVSTTRGTEIFEGETNRTDYLHLLKLPADGCWSGILVTKKCPKVTDLAKDLESTDCGSTWTEFTLRYRRCVVKKREKRSREPPKADLLAEMEIIAFKTIRENKTIFIVALLCVAIAKRWPTWVVILLAIGTWTTVKGEFVEPLYTLKAEQMTMLQTIVRPEEGYVVATPNGLLEFKTGPAEIYGGQWLRELLADCHVNASYSTDVCPGGSQLNMADIMAKERVCSTQPYNRGWGTGCFKWGIGFVGTCVELHCDRGFNVSSIARSAIVMNVTASFHSVSDTQQMVGDIPLTFRFAKLGNAAMTCRLESEQLLLDYYHVTGSSHEGLFLRSQVDSWPGVHSTASGRHGMEKVVVWGDARSNEILVKNVIEPSLSWEDAIATHGGFRDISFVCQIMLDKLVSGAFRDCPGPKISTFSQDGFGYSGVVITTLTASSNETCSLSLTCHGCLLQSTKMIFLAGKTTSRAFVKCGNHTSTLLVGSTSVSIECALNPISQGWRLARHVVDRYRRFGVSGVAGVWQDLVGKFSVGAFFSNTALLVILVLAALIDKRIAFLLVLGGYFYYVRADLGCGIDTTRKTISCGSGVFVWKHLGVGISNDHAVELEDYSFTDLYIKDMFSWTTKPCLICEDALQCVALRRAAFSAVGSMGSERVYVNDTLARTFKFSETAKRTISVTINLIQYKFSSYVAHGRAEGDLGLLPTMYGSYPEKEADKVIRIVASRPDIRRLCGKAVSFQFKFTGFRRGLYGSNVQVEVSKNSSTECPTYLAGVAVKNGRTVITDGMFWMESIVLDGVAQITSLEMRQSHRCVWPREYTPDTLSDPSDQALFIPPAWGGPISRVNHIIGYKTQTDFPWNVSDITLIEGPAPGTKVKVDSRCHGRMHAQVIGPNDTESWCCQSCTRIVHFRVGDLLYYPMEIQLGTMSEASEPNSKIFEEPIGEEPEPTVDDILKRYGKANAQSDFRRVSQRAGVWFDRSLLNLLCLAISLQLIGAKTRTSTLTRLFLTILAMALFGLPNLFSSVGLSAWVLLVASSSAQPQDLSMNLWIVLQTGSSAVLLLGYMIRRKLAMVLGVHHLVTLMCVQFLFSAVDRYQKYLYGLLELMASVVLLSAYKSVLQALPPEVLCFSLVMGWKTALSLATVVFLIFSLNAMYKYACQYHNPRNGYRDSGANLWFWTVSLASAGGIWAAEKAHQPTVAAVLAFTMVVLFLYMEQTNVSMELEFISAGETPEGVSTENDDGINIPDLKGRYGEDGIVVGAASSSGYLPELVFVFLLGFAVTSTSYFLGALYLLIATSTNLPVVIIRMLRMKLTASNRSDDLLGLGGPVETDLQTSFQDIPNGVYRIVVRSLFGDRQRGAGFSKNGVFHTLMHVTRGEPVKWRGRVVVPHSGSALRDVVSYGGPWQLDTPTTTEDLVLMACKPDKTIEYHRYRPGVMSIDGEPVMFISDDFGKGSSGSPFFINGEPVGFYGFGFYVNGIYRSTVAGGKPTDVTESLNCDSTRRFVTWHPGKGKTRKVIVEETKKNYDSNQRTVILTPTRVVMAEVVEALNNSGMRSDKNLSYCTRNLITVACHATFTKFVLSHGAKKVRVAMIIMDECHFMDPMSIAARGILEHLHGQGTKLIYLSATPPGHAPDTGSNYAISDQSISFPTWLSPAWIGNVQKSVGAKKTILFVPSHNQANTLASAIPGSVPLHRANFSSNYAQAGDAATALVISTDISEMGANLGVDLVIDTRRALRPLVDSATRVKLVETNITTSSMIQRRGRTGRREPGTYVYPIDSQTEENPVSWVCWPEAQMILDQLGMTFMLEEAAYSQPPGRFTLVGEDRMRFLKLMDRDDIPIWLAWHWAEAGDRRHSALFQGAGTGKIIENRFGKQEYRPQYVDDRFESIEWETRKVSIDFYMNCRGGPTLYEFFTVVDWTDIWRRTASALWDLSDVMNGEVRDRYTTERSLTVVMAFVLGVSIMLSCFIAVWALCFLFSLFRPKKATYEQMPSSDPLSGGVLVSTPSVLYCMGVPLGFCVVITLAMFLVYPVLYKSIGNRSYMDSDLVKWVILGSCLICGVLAWEMRMFPNIRSDLMELVKAVKEPEEVVNSGPSFPSWEIAQGKGATMLDSLQVFFFITVLSTKFLYWFQENWTARMYAMKHPEMVSSIGGFRFDEIPFRAVLPSGFAIVAIASLPSVVVGLLAAGVFMAIMYCQNKWNATPKILTALDARDQRHDRPTEITSRVPLENTRSIMYAFCLIFSLFWAFCTRSPGDFLRGSLVVGASMWQILHPRSKIHDVMDFGSMVSAIGLLEMNYLFYRFMHIAARALGAVAPFNQFRALEKSTTIGLGMKWKMTLNALDGDAFTRYKSRGVNETERGDYVSRGGLKLNEIISKYEWRPSGRVVDLGCGRGGWSQRAVMEETVSSALGFTIGGAEKENPQRFVTKGYNLATLKTGVDVHRLTPFRCDTIMCDIGESDPSPIKEKTRTLKVLQLLENWLLVNPGAHFVCKILSPYSLEVLRKIESLQHLYNGRLVRLSHSRNSSVEMYYISGARSNVVRTTYMTLAALMARFSRHLDSVVLPSPVLPKGTRADPAASVASMNTSDMMDRVERLMNENRGTWFEDQQHPYKSFKYFGSFVTDDVKVGGQAVNPLVRKIMWPWETLTSVVGFSMTDVSTYSQQKVLREKVDTVIPPHPQHIRRVNRTITKHFIRLFKNRNLRPRILSKEEFVANVRNDAAVGSWSRDVPWRDVQEAIQDQCFWDLVGKERALHLQGKCEMCIYNTMGKKEKKPSLAGEAKGSRTIWYMWLGSRFLEFEALGFLNADHWVSREHFPGGVGGVGVNYFGYYLKDIASRGKYLIADDIAGWDTKISEEDLEDEEALLTALTEDPYHRALMAATMRLAYQNIVAMFPRTHSKYGSGTVMDVVGRRDQRGSGQVVTYALNTITNGKVQVARVLESEGLLQADESVLDAWLEKHLEEALGNMVIAGDDVVVSTDNRDFSSALEYLELTGKTRKNVPQGAPSRMESNWEKVEFCSHHYHEMSLKDGRIIIAPCRHENEVLGRSRLQKGGVVSISESACMAKAYAQMWALYYFHRRDLRLGFIAISSAVPTNWFPLGRTSWSVHQYHEWMTTDDMLRVWNDVWVHNNPWMLNKESIESWDDIPYLHKKQDITCGSLIGVKERATWAREIENSVISVRRIIDAETGVLNTYKDELSVMSRYRRGNDVI',\n",
       " 'P24592_IBP6_HUMAN': 'MTPHRLLPPLLLLLALLLAASPGGALARCPGCGQGVQAGCPGGCVEEEDGGSPAEGCAEAEGCLRREGQECGVYTPNCAPGLQCHPPKDDEAPLRALLLGRGRCLPARAPAVAEENPKESKPQAGTARPQDVNRRDQQRNPGTSTTPSQPNSAGVQDTEMGPCRRHLDSVLQQLQTEVYRGAQTLYVPNCDHRGFYRKRQCRSSQGQRRGPCWCVDRMGKSLPGSPDGNGSSSCPTGSSG',\n",
       " 'B6DCT5': 'MKVLVLFSVLFLTLFSYSSTEAIDEFDSDAEDDMLSLMANEQVRAKACTPRLHDCSHDRHSCCRGELFKDVCYCFYPEGEDITEVCSCQQPKSHKYIEKVVDKAKTVVG',\n",
       " 'O29347': 'MDRKKVVEWWVDRLLINYPVKPVFEVVSFLQEAAEKIVDRALSLYEGKSVDLSDAVDDIMRFLATDRNFGPGDSIRLFCELRDFMADELNLKAEDRLKFGRKFEEILFTAFDAYMACREKIFELRLKEKEADLEMMRKIMDYASRSLSSQD',\n",
       " 'Q8PV50': 'MASIHRPKRGSLAFSPRKRAKSHIPRFRAWPEATGEPKLQSFAGYKVGMTHVIMVDDIKNSLTQGMEISVPVTVIETPAIRVAAVRAYTEDSTGEKAIAEAWAADLDSELKRRIPIPAAGNQAEGLENIGKLIEEGRVSDIRAVTYTLPKSLTGVPKKVPDIMESGISAKDLGAKFEYAKSILGNLVNVTDVFKNGTVVDTAAITIGKGTQGPVKRWGIQLQKGKHSRQGSLRQIGTLGSFNPSRVSWRVPQMGQMGYHQRTEFNKRILKIGSDGEEVTPEGGFINYGLVRGDYVLIKGSVPGPSKRLIRLRDPIRAKKADLGEPNILYISRESKQG',\n",
       " 'P00748_FA12_HUMAN': 'MRALLLLGFLLVSLESTLSIPPWEAPKEHKYKAEEHTVVLTVTGEPCHFPFQYHRQLYHKCTHKGRPGPQPWCATTPNFDQDQRWGYCLEPKKVKDHCSKHSPCQKGGTCVNMPSGPHCLCPQHLTGNHCQKEKCFEPQLLRFFHKNEIWYRTEQAAVARCQCKGPDAHCQRLASQACRTNPCLHGGRCLEVEGHRLCHCPVGYTGAFCDVDTKASCYDGRGLSYRGLARTTLSGAPCQPWASEATYRNVTAEQARNWGLGGHAFCRNPDNDIRPWCFVLNRDRLSWEYCDLAQCQTPTQAAPPTPVSPRLHVPLMPAQPAPPKPQPTTRTPPQSQTPGALPAKREQPPSLTRNGPLSCGQRLRKSLSSMTRVVGGLVALRGAHPYIAALYWGHSFCAGSLIAPCWVLTAAHCLQDRPAPEDLTVVLGQERRNHSCEPCQTLAVRSYRLHEAFSPVSYQHDLALLRLQEDADGSCALLSPYVQPVCLPSGAARPSETTLCQVAGWGHQFEGAEEYASFLQEAQVPFLSLERCSAPDVHGSSILPGMLCAGFLEGGTDACQGDSGGPLVCEDQAAERRLTLQGIISWGSGCGDRNKPGVYTDVAYYLAWIREHTVS',\n",
       " 'P10493_NIDO_MOUSE': 'MLDASGCSWAMWTWALLQLLLLVGPGGCLNRQELFPFGPGQGDLELEAGDDVVSPSLELIGELSFYDRTDITSVYVTTNGIIAMSEPPATEYHPGTFPPSFGSVAPFLADLDTTDGLGNVYYREDLSPFIIQMAAEYVQRGFPEVSFQPTSVVVVTWESVAPYGGPSSSPAEEGKRNTFQAVLASSNSSSYAIFLYPEDGLQFFTTFSKKDESQVPAVVGFSKGLVGFLWKSNGAYNIFANDRESIENLAKSSNAGHQGVWVFEIGSPATAKGVVSADVNLDLDDDGADYEDEDYDLVTSHLGLEDVATPSPSHSPRRGYPDPHNVPRILSPGYEATERPRGVPTERTRSFQLPAERFPQHHPQVIDVDEVEETGVVFSYNTGSQQTCANNRHQCSVHAECRDYATGFCCRCVANYTGNGRQCVAEGSPQRVNGKVKGRIFVGSSQVPVVFENTDLHSYVVMNHGRSYTAISTIPETVGYSLLPLAPIGGIIGWMFAVEQDGFKNGFSITGGEFTRQAEVTFLGHPGKLVLKQQFSGIDEHGHLTISTELEGRVPQIPYGASVHIEPYTELYHYSSSVITSSSTREYTVMEPDQDGAAPSHTHIYQWRQTITFQECAHDDARPALPSTQQLSVDSVFVLYNKEERILRYALSNSIGPVRDGSPDALQNPCYIGTHGCDSNAACRPGPGTQFTCECSIGFRGDGQTCYDIDECSEQPSRCGNHAVCNNLPGTFRCECVEGYHFSDRGTCVAAEDQRPINYCETGLHNCDIPQRAQCIYMGGSSYTCSCLPGFSGDGRACRDVDECQHSRCHPDAFCYNTPGSFTCQCKPGYQGDGFRCMPGEVSKTRCQLEREHILGAAGGADAQRPTLQGMFVPQCDEYGHYVPTQCHHSTGYCWCVDRDGRELEGSRTPPGMRPPCLSTVAPPIHQGPVVPTAVIPLPPGTHLLFAQTGKIERLPLERNTMKKTEAKAFLHIPAKVIIGLAFDCVDKVVYWTDISEPSIGRASLHGGEPTTIIRQDLGSPEGIALDHLGRTIFWTDSQLDRIEVAKMDGTQRRVLFDTGLVNPRGIVTDPVRGNLYWTDWNRDNPKIETSHMDGTNRRILAQDNLGLPNGLTFDAFSSQLCWVDAGTHRAECLNPAQPGRRKVLEGLQYPFAVTSYGKNLYYTDWKTNSVIAMDLAISKEMDTFHPHKQTRLYGITIALSQCPQGHNYCSVNNGGCTHLCLPTPGSRTCRCPDNTLGVDCIERK',\n",
       " 'P11171_41_HUMAN': 'MTTEKSLVTEAENSQHQQKEEGEEAINSGQQEPQQEESCQTAAEGDNWCEQKLKASNGDTPTHEDLTKNKERTSESRGLSRLFSSFLKRPKSQVSEEEGKEVESDKEKGEGGQKEIEFGTSLDEEIILKAPIAAPEPELKTDPSLDLHSLSSAETQPAQEELREDPDFEIKEGEGLEECSKIEVKEESPQSKAETELKASQKPIRKHRNMHCKVSLLDDTVYECVVEKHAKGQDLLKRVCEHLNLLEEDYFGLAIWDNATSKTWLDSAKEIKKQVRGVPWNFTFNVKFYPPDPAQLTEDITRYYLCLQLRQDIVAGRLPCSFATLALLGSYTIQSELGDYDPELHGVDYVSDFKLAPNQTKELEEKVMELHKSYRSMTPAQADLEFLENAKKLSMYGVDLHKAKDLEGVDIILGVCSSGLLVYKDKLRINRFPWPKVLKISYKRSSFFIKIRPGEQEQYESTIGFKLPSYRAAKKLWKVCVEHHTFFRLTSTDTIPKSKFLALGSKFRYSGRTQAQTRQASALIDRPAPHFERTASKRASRSLDGAAAVDSADRSPRPTSAPAITQGQVAEGGVLDASAKKTVVPKAQKETVKAEVKKEDEPPEQAEPEPTEAWKVEKTHIEVTVPTSNGDQTQKLAEKTEDLIRMRKKKRERLDGENIYIRHSNLMLEDLDKSQEEIKKHHASISELKKNFMESVPEPRPSEWDKRLSTHSPFRTLNINGQIPTGEGPPLVKTQTVTISDNANAVKSEIPTKDVPIVHTETKTITYEAAQTDDNSGDLDPGVLLTAQTITSETPSSTTTTQITKTVKGGISETRIEKRIVITGDADIDHDQVLVQAIKEAKEQHPDMSVTKVVVHQETEIADE',\n",
       " 'Q47A87': 'MKLNRRDFIKANAAAAAISAAGLSVPGAAVAQGKDEIRWDKAACRFCGTGCGVLVGTQDGRVVATQGDPDAPVNRGLNCIKGYFLSKIMYGADRLKTPMLRMKDGKYDKNGEFTPISWTKAFDIMEEKAKATMKAKGPNGLAMFGSGQWTIWEGYAASKLMKAGFRTNNLDPNARHCMASAVAGFMRTFGIDEPMGCYDDIEHADAFVLWGSNMAEMHPILWTRITDRKLSNKGVKVAVLSTFEHRSYELADIPMIFTPQTDLAILNYIANYIIQNGKVNQAFVDKNVNFKKSATDIGYGLRPTHALEKNATSNGYPDADGKPKGDTGKSDPITFDEFKKFVSEYTVEKVSKLSGVAEKDLKALAELYADPKVKVISFWTMGFNQHTRGTWANNLCYNIHLLTGKISEPGNSPFSLTGQPSACGTAREVGTFSHRLPADMVVTNPEHRKHTEELWGLPEGTIPDKVGYHAVAMARALKDGKVNFYWQQCNNNMQAGPNINEELYPGWRKPENFIVVSDPYPTVSAMAADLILPTAMWVEKEGAYGNAERRTQFWRQQVKAPGEARSDLWQLMEFSKRFKVEEVWPAELVAKAPKLKGKTLFDVLYANGVVNKYKLNETAAGFDNDDSKLIGFYIQKGLFEEYASFGRGHGHDLAPFDSYHQARGLRWPVVGGKETLWRFREGYDPYVKKGEGVKFYGHKDGKAVIFALPYQPPAESPDKEFDMWLSTGRVLEHWHTGTMTRRVPELYKAFPDAVVFMHPDDAKARGLQRGMEVKVASRRGEIQLRVETRGRNKPPRGLVFIPFFDAGRLVNKLTLDATCPISKETDYKKCAVKVTKV',\n",
       " 'B3ET80': 'MDTISNKTGEGGVIMVALEDLLNWAERSSLWPITFGLACCAIEMMGAYASHYDLDRLGVIPRNSPRQADVMIVSGTVTFKMADSIRRLYDQMPEPRYVISMGSCANCGGPYWQHGYHVVKGVDRIIPVDVYVPGCPPRPEALIGGILKLQEKIKAKLTYS'}"
      ]
     },
     "execution_count": 8,
     "metadata": {},
     "output_type": "execute_result"
    }
   ],
   "source": [
    "sequences"
   ]
  },
  {
   "cell_type": "code",
   "execution_count": 9,
   "id": "e26c15f6-2fa2-48d2-93ab-132b929fb164",
   "metadata": {},
   "outputs": [
    {
     "name": "stdout",
     "output_type": "stream",
     "text": [
      "B0RU89\n",
      "142 148 889 1028\n",
      "P10761_ZP3_MOUSE\n",
      "146 273 304 327 330\n",
      "P33515\n",
      "157 243 339 399 411 575 611 794 896 993 1027 1351 1450 1683 1692 1830 1886 2172 2266 2488 2656 2716 2817\n",
      "P24592_IBP6_HUMAN\n",
      "229\n",
      "Q8PV50\n",
      "188 195\n",
      "P00748_FA12_HUMAN\n",
      "249 433\n",
      "P10493_NIDO_MOUSE\n",
      "187 415\n",
      "P11171_41_HUMAN\n",
      "258 281 358\n",
      "Q47A87\n",
      "310 616\n",
      "B3ET80\n",
      "6\n"
     ]
    }
   ],
   "source": [
    "motif_locations = find_prot_motif(sequences)"
   ]
  },
  {
   "cell_type": "markdown",
   "id": "abd5b5e3-780e-41a7-9aba-645388735007",
   "metadata": {},
   "source": [
    "# Inferring mRNA from Protein"
   ]
  },
  {
   "cell_type": "code",
   "execution_count": 20,
   "id": "a905d536-443a-4592-8f78-5b79f4164a86",
   "metadata": {},
   "outputs": [],
   "source": [
    "from gazpacho import get, Soup\n",
    "import csv\n",
    "import os"
   ]
  },
  {
   "cell_type": "code",
   "execution_count": 18,
   "id": "79cb5596-7be1-416f-baca-1f163b6f709d",
   "metadata": {},
   "outputs": [],
   "source": [
    "url = \"http://rosalind.info/glossary/rna-codon-table/\"\n",
    "html = get(url)\n",
    "soup = Soup(html)\n",
    "glossary_terms = soup.find(\"div\", {\"class\": \"glossary-term\"})\n",
    "RNA_codon_table = glossary_terms.find(\"pre\").text\n",
    "\n",
    "RNA_codon_table = RNA_codon_table.replace(\"\\n\", \",\").replace(\"     \", \",\").replace(\"    \", \",\").replace(\"      \", \",\")\n",
    "RNA_codon_table = RNA_codon_table.replace(\"   \", \",\")\n",
    "RNA_codon_table = RNA_codon_table.replace(\", \", \",\")\n",
    "RNA_codon_table = RNA_codon_table.replace(\" \", \":\").split(\",\")\n",
    "\n",
    "gene_to_amino_code = {}\n",
    "\n",
    "for code in RNA_codon_table:\n",
    "    code = code.split(\":\")\n",
    "    if code[0] in gene_to_amino_code.keys():\n",
    "        gene_to_amino_code[code[0]].append(code[1])\n",
    "    else:\n",
    "        gene_to_amino_code[code[0]] = []\n",
    "        gene_to_amino_code[code[0]].append(code[1])"
   ]
  },
  {
   "cell_type": "code",
   "execution_count": 24,
   "id": "ec892ab4-ef65-4282-810d-9e3e6fb77b06",
   "metadata": {},
   "outputs": [],
   "source": [
    "desktop = os.path.join(os.path.expanduser(\"~\"), \"Downloads\")\n",
    "filepath = os.path.join(desktop, \"rosalind_mrna.txt\")\n",
    "\n",
    "with open(filepath, \"r\") as f:\n",
    "    protein = f.readlines()[0].strip(\"\\n\")"
   ]
  },
  {
   "cell_type": "code",
   "execution_count": 25,
   "id": "37f44ab7-d087-4863-bd46-7fc0710fa86d",
   "metadata": {},
   "outputs": [
    {
     "data": {
      "text/plain": [
       "'MKDRWHCYGAESDDKSCWWVRCDIDAMESIMIDNQWPAVPHCISYHSNRDANDLSFCREMAKPWAQLWHFFTTCCCGFPFAAFLFNYTRQDMVFENIKNSDIGKDVQRQSVIAKWNGHKQPFIFMVSCNDSQKLKNTFQPPIWQNGGQMNGSDLKTFMWHCAYCNIGFLVDWDWLFFKLHCAHNGTEYQQDTLDGECNFLWEMTIRCTHRSPTHEDRPHPKSAGTMFMCEWMQPGQYDIHYCMTDTIWNWRCYTDPMDTVCSDTEYGNLVKIFHGMCQFFVSSGWLDAMPFLIKMGKQKNFDLFIYGKNDPEFFVVKKMGKTTNAIMQSMLSGEVWTTPQHQDDSSRAIGLDKKLWDPWWRRFKWALVWSGTRWGMHAAASCSCKFRGFPGKESPQEGNVEDKRINKVFVEYMCFTKTCMNIWPPCETLMNQSITHKPLFPRNGFYLKRMMMFHWPPIHCFIIDQTKISVGVHSAMYVLNWAESIVTVLVRYQGYNQAGFFYYGCYYYHCWIRGSTATKHCVSADYRLVLCMDGANFDGVLSFCSKQQWNLMFNMAYKRAFGGINLRNRGAMIQTRLLHVLNIVYQLVITPIPDEYHWTIHSKEPDPMDFQAAFSGHEQLKRMFCEAVTGNLQLDWLQGFKLFMFALTHTWWRQTTGWNHNWFDVGKDKQTGNQLYFLCYMKMECAWTVQMSEPLNICKTHQHRQFVAFILHFYKTLDFQMEREGFTFAHFGDTAMQFHIDEIDCDIDGIMEITFVWSDQYMVMCEYEACLPIIDEDAHCVIHNFCTTVIEFWKWKDMSAPSGRPASACVNHHICYCMEEMAGHQWWRWLGITLYINFRNVDGKLVNPKDGDAHPNIEYHMYQAWCPPEIMFNIYLQWCCDSNYEIVQPFTSTPAYCPICKTTIIMIYPSKLKMHSNKRNDPDIIEYGCSHSWMVTNKKHDVGDPLRDSKVVPKINVKFLCKKDYPEARRHAICAMEIARWHGCLHIWKWWDQWFNNWGW'"
      ]
     },
     "execution_count": 25,
     "metadata": {},
     "output_type": "execute_result"
    }
   ],
   "source": [
    "protein"
   ]
  },
  {
   "cell_type": "code",
   "execution_count": 26,
   "id": "d62827ce-3bfc-44bc-876f-7a28243e295c",
   "metadata": {},
   "outputs": [],
   "source": [
    "counter = [0]*len(protein)\n",
    "for index, aa in enumerate(protein):\n",
    "    counter[index] = 0\n",
    "    for key, value in gene_to_amino_code.items():\n",
    "        if value == list(aa):\n",
    "            counter[index] += 1\n",
    "            \n",
    "counter.append(3)\n"
   ]
  },
  {
   "cell_type": "code",
   "execution_count": 27,
   "id": "d67eeb74-a686-4914-9088-9ce15218e445",
   "metadata": {},
   "outputs": [
    {
     "data": {
      "text/plain": [
       "622976"
      ]
     },
     "execution_count": 27,
     "metadata": {},
     "output_type": "execute_result"
    }
   ],
   "source": [
    "from functools import reduce\n",
    "reduce(lambda x, y: x*y, counter) % 1000000"
   ]
  },
  {
   "cell_type": "markdown",
   "id": "b1f30770-fc5f-47dc-ba17-7e67f9e8b14a",
   "metadata": {},
   "source": [
    "# Open Reading Frames"
   ]
  },
  {
   "cell_type": "code",
   "execution_count": 1,
   "id": "67528ca3-fd35-4fca-a3fe-782c7833e2d1",
   "metadata": {},
   "outputs": [],
   "source": [
    "from gazpacho import get, Soup\n",
    "import csv\n",
    "import os"
   ]
  },
  {
   "cell_type": "code",
   "execution_count": 2,
   "id": "39ced6de-3739-4341-b217-6c22f93c9e69",
   "metadata": {},
   "outputs": [],
   "source": [
    "url = \"http://rosalind.info/glossary/rna-codon-table/\"\n",
    "html = get(url)\n",
    "soup = Soup(html)\n",
    "glossary_terms = soup.find(\"div\", {\"class\": \"glossary-term\"})\n",
    "RNA_codon_table = glossary_terms.find(\"pre\").text\n",
    "\n",
    "RNA_codon_table = RNA_codon_table.replace(\"\\n\", \",\").replace(\"     \", \",\").replace(\"    \", \",\").replace(\"      \", \",\")\n",
    "RNA_codon_table = RNA_codon_table.replace(\"   \", \",\")\n",
    "RNA_codon_table = RNA_codon_table.replace(\", \", \",\")\n",
    "RNA_codon_table = RNA_codon_table.replace(\" \", \":\").split(\",\")\n",
    "\n",
    "gene_to_amino_code = {}\n",
    "\n",
    "for code in RNA_codon_table:\n",
    "    code = code.split(\":\")\n",
    "    if code[0] in gene_to_amino_code.keys():\n",
    "        gene_to_amino_code[code[0].replace(\"U\", \"T\")].append(code[1])\n",
    "    else:\n",
    "        gene_to_amino_code[code[0].replace(\"U\", \"T\")] = []\n",
    "        gene_to_amino_code[code[0].replace(\"U\", \"T\")].append(code[1])"
   ]
  },
  {
   "cell_type": "code",
   "execution_count": null,
   "id": "09ce9fa0-5160-4e7b-b861-d2c51aeb6390",
   "metadata": {},
   "outputs": [],
   "source": []
  }
 ],
 "metadata": {
  "kernelspec": {
   "display_name": "Python 3 (ipykernel)",
   "language": "python",
   "name": "python3"
  },
  "language_info": {
   "codemirror_mode": {
    "name": "ipython",
    "version": 3
   },
   "file_extension": ".py",
   "mimetype": "text/x-python",
   "name": "python",
   "nbconvert_exporter": "python",
   "pygments_lexer": "ipython3",
   "version": "3.7.10"
  }
 },
 "nbformat": 4,
 "nbformat_minor": 5
}
