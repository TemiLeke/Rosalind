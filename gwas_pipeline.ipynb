{
 "cells": [
  {
   "cell_type": "code",
   "execution_count": 7,
   "id": "73e75cc1",
   "metadata": {},
   "outputs": [],
   "source": [
    "!pip install dash dash-bio -q\n",
    "!pip install dxpy -q\n",
    "import dxpy\n",
    "import numpy as np\n",
    "import pandas as pd\n",
    "import dash_bio\n",
    "import matplotlib.pyplot as plt\n",
    "import os"
   ]
  },
  {
   "cell_type": "code",
   "execution_count": 2,
   "id": "9f4d1060",
   "metadata": {},
   "outputs": [
    {
     "name": "stdout",
     "output_type": "stream",
     "text": [
      "--2022-01-12 19:57:12--  https://s3.amazonaws.com/plink2-assets/plink2_linux_x86_64_20211217.zip\n",
      "Resolving s3.amazonaws.com (s3.amazonaws.com)... 52.216.162.133\n",
      "Connecting to s3.amazonaws.com (s3.amazonaws.com)|52.216.162.133|:443... connected.\n",
      "HTTP request sent, awaiting response... 200 OK\n",
      "Length: 9151095 (8.7M) [application/zip]\n",
      "Saving to: ‘plink2_linux_x86_64_20211217.zip.1’\n",
      "\n",
      "plink2_linux_x86_64 100%[===================>]   8.73M  51.0MB/s    in 0.2s    \n",
      "\n",
      "2022-01-12 19:57:13 (51.0 MB/s) - ‘plink2_linux_x86_64_20211217.zip.1’ saved [9151095/9151095]\n",
      "\n",
      "Archive:  plink2_linux_x86_64_20211217.zip\n",
      "  inflating: plink2                  \n"
     ]
    }
   ],
   "source": [
    "%%bash\n",
    "wget https://s3.amazonaws.com/plink2-assets/plink2_linux_x86_64_20211217.zip\n",
    "unzip plink2_linux_x86_64_20211217.zip"
   ]
  },
  {
   "cell_type": "code",
   "execution_count": 4,
   "id": "2d99572a",
   "metadata": {},
   "outputs": [],
   "source": [
    "%%bash\n",
    "dx download -r \"Genotype data/\"\n",
    "dx download -r \"Phenotype data/\""
   ]
  },
  {
   "cell_type": "code",
   "execution_count": 29,
   "id": "3505e6a6",
   "metadata": {},
   "outputs": [],
   "source": [
    "phenotype = pd.read_csv(\"Phenotype data/LASI_DAD_Neurohack_Phenotype_fake.csv\")\n",
    "pc = pd.read_csv(\"Phenotype data/LASI_DAD_Neurohack_genetic_PCs_fake.csv\")\n",
    "health = pd.read_csv(\"Phenotype data/LASI_DAD_Neurohack_health_pheno_fake.csv\")\n"
   ]
  },
  {
   "cell_type": "code",
   "execution_count": 30,
   "id": "47a1bf3d",
   "metadata": {},
   "outputs": [],
   "source": [
    "cov = pd.merge(phenotype,pc)\n",
    "cov_iid = cov.rename({'subjectID': 'IID'}, axis=1)\n",
    "health_iid = health.rename({'subjectID': 'IID'}, axis=1)"
   ]
  },
  {
   "cell_type": "code",
   "execution_count": 33,
   "id": "71d4c80f",
   "metadata": {},
   "outputs": [],
   "source": [
    "cov_iid.to_csv(\"gwas.cov\", sep = '\\t', index = False)\n",
    "health_iid.to_csv(\"pheno.cov\", sep = '\\t', index = False)"
   ]
  },
  {
   "cell_type": "code",
   "execution_count": 37,
   "id": "370d2b58",
   "metadata": {},
   "outputs": [
    {
     "name": "stdout",
     "output_type": "stream",
     "text": [
      "PLINK v2.00a3LM 64-bit Intel (17 Dec 2021)     www.cog-genomics.org/plink/2.0/\n",
      "(C) 2005-2021 Shaun Purcell, Christopher Chang   GNU General Public License v3\n",
      "Logging to test.log.\n",
      "Options in effect:\n",
      "  --covar gwas.cov\n",
      "  --covar-name r1agey,ragender,EV1,EV2,EV3,EV4,EV5,EV6,EV7,EV8,EV9,EV10\n",
      "  --covar-variance-standardize\n",
      "  --extract-if-info R2 >= 0.4\n",
      "  --glm hide-covar\n",
      "  --out test\n",
      "  --pheno pheno.cov\n",
      "  --pheno-name r1alzdeme\n",
      "  --vcf chr1.dose.vcf\n",
      "\n",
      "Start time: Wed Jan 12 21:18:06 2022\n",
      "3692 MiB RAM detected; reserving 1846 MiB for main workspace.\n",
      "Using up to 2 compute threads.\n",
      "--vcf: 3738242 variants scanned.\n",
      "--vcf: test-temporary.pgen + test-temporary.pvar.zst + test-temporary.psam\n",
      "written.\n",
      "10 samples (0 females, 0 males, 10 ambiguous; 10 founders) loaded from\n",
      "test-temporary.psam.\n",
      "635842 out of 3738242 variants loaded from test-temporary.pvar.zst.\n",
      "1 binary phenotype loaded (0 cases, 0 controls).\n",
      "End time: Wed Jan 12 21:18:09 2022\n"
     ]
    },
    {
     "name": "stderr",
     "output_type": "stream",
     "text": [
      "Error: Invalid numeric token '1.male' on line 2 of gwas.cov.\n"
     ]
    },
    {
     "ename": "CalledProcessError",
     "evalue": "Command 'b'./plink2 --vcf \"chr1.dose.vcf\" \\\\\\n--extract-if-info R2 \\'>\\'= 0.4 \\\\\\n--covar \"gwas.cov\" \\\\\\n--covar-name r1agey,ragender,EV1,EV2,EV3,EV4,EV5,EV6,EV7,EV8,EV9,EV10 \\\\\\n--covar-variance-standardize \\\\\\n--glm hide-covar \\\\\\n--out test \\\\\\n--pheno \"pheno.cov\" \\\\\\n--pheno-name r1alzdeme\\n'' returned non-zero exit status 6.",
     "output_type": "error",
     "traceback": [
      "\u001b[0;31m---------------------------------------------------------------------------\u001b[0m",
      "\u001b[0;31mCalledProcessError\u001b[0m                        Traceback (most recent call last)",
      "\u001b[0;32m<ipython-input-37-efdca1ff6a7d>\u001b[0m in \u001b[0;36m<module>\u001b[0;34m\u001b[0m\n\u001b[0;32m----> 1\u001b[0;31m \u001b[0mget_ipython\u001b[0m\u001b[0;34m(\u001b[0m\u001b[0;34m)\u001b[0m\u001b[0;34m.\u001b[0m\u001b[0mrun_cell_magic\u001b[0m\u001b[0;34m(\u001b[0m\u001b[0;34m'bash'\u001b[0m\u001b[0;34m,\u001b[0m \u001b[0;34m''\u001b[0m\u001b[0;34m,\u001b[0m \u001b[0;34m'./plink2 --vcf \"chr1.dose.vcf\" \\\\\\n--extract-if-info R2 \\'>\\'= 0.4 \\\\\\n--covar \"gwas.cov\" \\\\\\n--covar-name r1agey,ragender,EV1,EV2,EV3,EV4,EV5,EV6,EV7,EV8,EV9,EV10 \\\\\\n--covar-variance-standardize \\\\\\n--glm hide-covar \\\\\\n--out test \\\\\\n--pheno \"pheno.cov\" \\\\\\n--pheno-name r1alzdeme\\n'\u001b[0m\u001b[0;34m)\u001b[0m\u001b[0;34m\u001b[0m\u001b[0m\n\u001b[0m",
      "\u001b[0;32m/opt/conda/lib/python3.6/site-packages/IPython/core/interactiveshell.py\u001b[0m in \u001b[0;36mrun_cell_magic\u001b[0;34m(self, magic_name, line, cell)\u001b[0m\n\u001b[1;32m   2369\u001b[0m             \u001b[0;32mwith\u001b[0m \u001b[0mself\u001b[0m\u001b[0;34m.\u001b[0m\u001b[0mbuiltin_trap\u001b[0m\u001b[0;34m:\u001b[0m\u001b[0;34m\u001b[0m\u001b[0m\n\u001b[1;32m   2370\u001b[0m                 \u001b[0margs\u001b[0m \u001b[0;34m=\u001b[0m \u001b[0;34m(\u001b[0m\u001b[0mmagic_arg_s\u001b[0m\u001b[0;34m,\u001b[0m \u001b[0mcell\u001b[0m\u001b[0;34m)\u001b[0m\u001b[0;34m\u001b[0m\u001b[0m\n\u001b[0;32m-> 2371\u001b[0;31m                 \u001b[0mresult\u001b[0m \u001b[0;34m=\u001b[0m \u001b[0mfn\u001b[0m\u001b[0;34m(\u001b[0m\u001b[0;34m*\u001b[0m\u001b[0margs\u001b[0m\u001b[0;34m,\u001b[0m \u001b[0;34m**\u001b[0m\u001b[0mkwargs\u001b[0m\u001b[0;34m)\u001b[0m\u001b[0;34m\u001b[0m\u001b[0m\n\u001b[0m\u001b[1;32m   2372\u001b[0m             \u001b[0;32mreturn\u001b[0m \u001b[0mresult\u001b[0m\u001b[0;34m\u001b[0m\u001b[0m\n\u001b[1;32m   2373\u001b[0m \u001b[0;34m\u001b[0m\u001b[0m\n",
      "\u001b[0;32m/opt/conda/lib/python3.6/site-packages/IPython/core/magics/script.py\u001b[0m in \u001b[0;36mnamed_script_magic\u001b[0;34m(line, cell)\u001b[0m\n\u001b[1;32m    140\u001b[0m             \u001b[0;32melse\u001b[0m\u001b[0;34m:\u001b[0m\u001b[0;34m\u001b[0m\u001b[0m\n\u001b[1;32m    141\u001b[0m                 \u001b[0mline\u001b[0m \u001b[0;34m=\u001b[0m \u001b[0mscript\u001b[0m\u001b[0;34m\u001b[0m\u001b[0m\n\u001b[0;32m--> 142\u001b[0;31m             \u001b[0;32mreturn\u001b[0m \u001b[0mself\u001b[0m\u001b[0;34m.\u001b[0m\u001b[0mshebang\u001b[0m\u001b[0;34m(\u001b[0m\u001b[0mline\u001b[0m\u001b[0;34m,\u001b[0m \u001b[0mcell\u001b[0m\u001b[0;34m)\u001b[0m\u001b[0;34m\u001b[0m\u001b[0m\n\u001b[0m\u001b[1;32m    143\u001b[0m \u001b[0;34m\u001b[0m\u001b[0m\n\u001b[1;32m    144\u001b[0m         \u001b[0;31m# write a basic docstring:\u001b[0m\u001b[0;34m\u001b[0m\u001b[0;34m\u001b[0m\u001b[0m\n",
      "\u001b[0;32m<decorator-gen-110>\u001b[0m in \u001b[0;36mshebang\u001b[0;34m(self, line, cell)\u001b[0m\n",
      "\u001b[0;32m/opt/conda/lib/python3.6/site-packages/IPython/core/magic.py\u001b[0m in \u001b[0;36m<lambda>\u001b[0;34m(f, *a, **k)\u001b[0m\n\u001b[1;32m    185\u001b[0m     \u001b[0;31m# but it's overkill for just that one bit of state.\u001b[0m\u001b[0;34m\u001b[0m\u001b[0;34m\u001b[0m\u001b[0m\n\u001b[1;32m    186\u001b[0m     \u001b[0;32mdef\u001b[0m \u001b[0mmagic_deco\u001b[0m\u001b[0;34m(\u001b[0m\u001b[0marg\u001b[0m\u001b[0;34m)\u001b[0m\u001b[0;34m:\u001b[0m\u001b[0;34m\u001b[0m\u001b[0m\n\u001b[0;32m--> 187\u001b[0;31m         \u001b[0mcall\u001b[0m \u001b[0;34m=\u001b[0m \u001b[0;32mlambda\u001b[0m \u001b[0mf\u001b[0m\u001b[0;34m,\u001b[0m \u001b[0;34m*\u001b[0m\u001b[0ma\u001b[0m\u001b[0;34m,\u001b[0m \u001b[0;34m**\u001b[0m\u001b[0mk\u001b[0m\u001b[0;34m:\u001b[0m \u001b[0mf\u001b[0m\u001b[0;34m(\u001b[0m\u001b[0;34m*\u001b[0m\u001b[0ma\u001b[0m\u001b[0;34m,\u001b[0m \u001b[0;34m**\u001b[0m\u001b[0mk\u001b[0m\u001b[0;34m)\u001b[0m\u001b[0;34m\u001b[0m\u001b[0m\n\u001b[0m\u001b[1;32m    188\u001b[0m \u001b[0;34m\u001b[0m\u001b[0m\n\u001b[1;32m    189\u001b[0m         \u001b[0;32mif\u001b[0m \u001b[0mcallable\u001b[0m\u001b[0;34m(\u001b[0m\u001b[0marg\u001b[0m\u001b[0;34m)\u001b[0m\u001b[0;34m:\u001b[0m\u001b[0;34m\u001b[0m\u001b[0m\n",
      "\u001b[0;32m/opt/conda/lib/python3.6/site-packages/IPython/core/magics/script.py\u001b[0m in \u001b[0;36mshebang\u001b[0;34m(self, line, cell)\u001b[0m\n\u001b[1;32m    243\u001b[0m             \u001b[0msys\u001b[0m\u001b[0;34m.\u001b[0m\u001b[0mstderr\u001b[0m\u001b[0;34m.\u001b[0m\u001b[0mflush\u001b[0m\u001b[0;34m(\u001b[0m\u001b[0;34m)\u001b[0m\u001b[0;34m\u001b[0m\u001b[0m\n\u001b[1;32m    244\u001b[0m         \u001b[0;32mif\u001b[0m \u001b[0margs\u001b[0m\u001b[0;34m.\u001b[0m\u001b[0mraise_error\u001b[0m \u001b[0;32mand\u001b[0m \u001b[0mp\u001b[0m\u001b[0;34m.\u001b[0m\u001b[0mreturncode\u001b[0m\u001b[0;34m!=\u001b[0m\u001b[0;36m0\u001b[0m\u001b[0;34m:\u001b[0m\u001b[0;34m\u001b[0m\u001b[0m\n\u001b[0;32m--> 245\u001b[0;31m             \u001b[0;32mraise\u001b[0m \u001b[0mCalledProcessError\u001b[0m\u001b[0;34m(\u001b[0m\u001b[0mp\u001b[0m\u001b[0;34m.\u001b[0m\u001b[0mreturncode\u001b[0m\u001b[0;34m,\u001b[0m \u001b[0mcell\u001b[0m\u001b[0;34m,\u001b[0m \u001b[0moutput\u001b[0m\u001b[0;34m=\u001b[0m\u001b[0mout\u001b[0m\u001b[0;34m,\u001b[0m \u001b[0mstderr\u001b[0m\u001b[0;34m=\u001b[0m\u001b[0merr\u001b[0m\u001b[0;34m)\u001b[0m\u001b[0;34m\u001b[0m\u001b[0m\n\u001b[0m\u001b[1;32m    246\u001b[0m \u001b[0;34m\u001b[0m\u001b[0m\n\u001b[1;32m    247\u001b[0m     \u001b[0;32mdef\u001b[0m \u001b[0m_run_script\u001b[0m\u001b[0;34m(\u001b[0m\u001b[0mself\u001b[0m\u001b[0;34m,\u001b[0m \u001b[0mp\u001b[0m\u001b[0;34m,\u001b[0m \u001b[0mcell\u001b[0m\u001b[0;34m,\u001b[0m \u001b[0mto_close\u001b[0m\u001b[0;34m)\u001b[0m\u001b[0;34m:\u001b[0m\u001b[0;34m\u001b[0m\u001b[0m\n",
      "\u001b[0;31mCalledProcessError\u001b[0m: Command 'b'./plink2 --vcf \"chr1.dose.vcf\" \\\\\\n--extract-if-info R2 \\'>\\'= 0.4 \\\\\\n--covar \"gwas.cov\" \\\\\\n--covar-name r1agey,ragender,EV1,EV2,EV3,EV4,EV5,EV6,EV7,EV8,EV9,EV10 \\\\\\n--covar-variance-standardize \\\\\\n--glm hide-covar \\\\\\n--out test \\\\\\n--pheno \"pheno.cov\" \\\\\\n--pheno-name r1alzdeme\\n'' returned non-zero exit status 6."
     ]
    }
   ],
   "source": [
    "%%bash\n",
    "./plink2 --vcf \"chr1.dose.vcf\" \\\n",
    "--extract-if-info R2 '>'= 0.4 \\\n",
    "--covar \"gwas.cov\" \\\n",
    "--covar-name r1agey,ragender,EV1,EV2,EV3,EV4,EV5,EV6,EV7,EV8,EV9,EV10 \\\n",
    "--covar-variance-standardize \\\n",
    "--glm hide-covar \\\n",
    "--out  \\\n",
    "--pheno \"pheno.cov\" \\\n",
    "--pheno-name r1alzdeme"
   ]
  }
 ],
 "metadata": {
  "kernelspec": {
   "display_name": "Python 3 (ipykernel)",
   "language": "python",
   "name": "python3"
  },
  "language_info": {
   "codemirror_mode": {
    "name": "ipython",
    "version": 3
   },
   "file_extension": ".py",
   "mimetype": "text/x-python",
   "name": "python",
   "nbconvert_exporter": "python",
   "pygments_lexer": "ipython3",
   "version": "3.7.10"
  }
 },
 "nbformat": 4,
 "nbformat_minor": 5
}
