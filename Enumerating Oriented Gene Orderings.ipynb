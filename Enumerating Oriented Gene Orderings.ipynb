{
 "cells": [
  {
   "cell_type": "code",
   "execution_count": 1,
   "id": "936504ca-3fb8-4c0e-9a2f-66f30e5f4d59",
   "metadata": {},
   "outputs": [],
   "source": [
    "from gazpacho import get, Soup\n",
    "import csv\n",
    "import os\n",
    "import pandas as pd\n",
    "import numpy as np\n",
    "from itertools import groupby\n",
    "import pathlib\n",
    "import os\n",
    "import math\n",
    "import itertools"
   ]
  },
  {
   "cell_type": "code",
   "execution_count": 27,
   "id": "172469fc-b202-4837-8153-07443c8f9ab1",
   "metadata": {},
   "outputs": [],
   "source": [
    "def get_rosalind_data(filepath, filename, readlines=False):    \n",
    "    \n",
    "    if readlines:\n",
    "        with open(filepath+filename, \"r\") as f:\n",
    "            data = f.readlines()\n",
    "            data = [line.strip(\"\\n\") for line in data]\n",
    "    else: \n",
    "        with open(filepath+filename, \"r\") as f:\n",
    "            data = f.read().strip(\"\\n\")\n",
    "\n",
    "    return data\n",
    "\n",
    "filepath=\"C:\\\\Users\\\\adeoy\\\\Downloads\\\\\"\n",
    "filename=\"rosalind_sign (5).txt\"\n",
    "\n",
    "data = get_rosalind_data(filepath, filename, readlines=True)\n",
    "data = [i for i in range(1, int(data[0])+1)]"
   ]
  },
  {
   "cell_type": "code",
   "execution_count": 30,
   "id": "25399a5b-6e2d-4070-a205-81c462681496",
   "metadata": {},
   "outputs": [],
   "source": [
    "def signed_permutations(data):\n",
    "    \n",
    "    sign_perm = [list(itertools.permutations(data))]           \n",
    "    temp = data.copy()\n",
    "    indexes = [i for i in range(0, len(data))]\n",
    "    \n",
    "    for num_combinations in range(1, len(data)+1):        \n",
    "        combinations = list(itertools.combinations(indexes, num_combinations))\n",
    "        for combination in combinations:\n",
    "            for index in combination:\n",
    "                data[index] = -data[index]\n",
    "            sign_perm.append(list(itertools.permutations(data)))\n",
    "            data = temp.copy()\n",
    "\n",
    "    with open(\"signed_permutations.txt\", \"w\") as f:\n",
    "        count = 0\n",
    "        for lis in sign_perm:\n",
    "            for permutation in lis:\n",
    "                permute = \"\"\n",
    "                for number in permutation:\n",
    "                    permute += str(number) + \" \"        \n",
    "                #print(permute)\n",
    "                f.write(permute+\"\\n\")\n",
    "                count += 1\n",
    "    print(f\"The total number of signed permutations of length {len(data)} is {count}\")"
   ]
  },
  {
   "cell_type": "code",
   "execution_count": 31,
   "id": "2c691a56-f685-4c80-86d1-3bdfd9b53395",
   "metadata": {},
   "outputs": [
    {
     "name": "stdout",
     "output_type": "stream",
     "text": [
      "The total number of signed permutations of length 4 is 384\n"
     ]
    }
   ],
   "source": [
    "signed_permutations(data)"
   ]
  },
  {
   "cell_type": "code",
   "execution_count": null,
   "id": "a52c8bc9-a85b-44ee-9af9-29ab042223ad",
   "metadata": {},
   "outputs": [],
   "source": []
  }
 ],
 "metadata": {
  "kernelspec": {
   "display_name": "Python 3 (ipykernel)",
   "language": "python",
   "name": "python3"
  },
  "language_info": {
   "codemirror_mode": {
    "name": "ipython",
    "version": 3
   },
   "file_extension": ".py",
   "mimetype": "text/x-python",
   "name": "python",
   "nbconvert_exporter": "python",
   "pygments_lexer": "ipython3",
   "version": "3.7.10"
  }
 },
 "nbformat": 4,
 "nbformat_minor": 5
}
