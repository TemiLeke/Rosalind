{
 "cells": [
  {
   "cell_type": "code",
   "execution_count": 1,
   "id": "bcd5837d-b36d-4e06-9bff-7b4cfffd0395",
   "metadata": {},
   "outputs": [],
   "source": [
    "from gazpacho import get, Soup\n",
    "import csv\n",
    "import os\n",
    "import pandas as pd\n",
    "import numpy as np\n",
    "from itertools import groupby\n",
    "import pathlib\n",
    "import os\n",
    "import math"
   ]
  },
  {
   "cell_type": "code",
   "execution_count": 2,
   "id": "9cf14b36-53db-4a24-9947-d66f087a0015",
   "metadata": {},
   "outputs": [],
   "source": [
    "url = \"http://rosalind.info/glossary/rna-codon-table/\"\n",
    "html = get(url)\n",
    "soup = Soup(html)\n",
    "glossary_terms = soup.find(\"div\", {\"class\": \"glossary-term\"})\n",
    "RNA_codon_table = glossary_terms.find(\"pre\").text\n",
    "\n",
    "RNA_codon_table = RNA_codon_table.replace(\"\\n\", \",\").replace(\"     \", \",\").replace(\"    \", \",\").replace(\"      \", \",\")\n",
    "RNA_codon_table = RNA_codon_table.replace(\"   \", \",\")\n",
    "RNA_codon_table = RNA_codon_table.replace(\", \", \",\")\n",
    "RNA_codon_table = RNA_codon_table.replace(\" \", \":\").split(\",\")\n",
    "\n",
    "gene_to_amino_code = {}\n",
    "\n",
    "for code in RNA_codon_table:\n",
    "    code = code.split(\":\")\n",
    "    if code[0] in gene_to_amino_code.keys():\n",
    "        gene_to_amino_code[code[0].replace(\"U\", \"T\")].append(code[1])\n",
    "    else:\n",
    "        gene_to_amino_code[code[0].replace(\"U\", \"T\")] = []\n",
    "        gene_to_amino_code[code[0].replace(\"U\", \"T\")].append(code[1])"
   ]
  },
  {
   "cell_type": "code",
   "execution_count": 3,
   "id": "49ffe383-9f4b-4a7d-a53f-f799a9b96092",
   "metadata": {},
   "outputs": [],
   "source": [
    "def get_rosalind_data(filepath, filename, readlines=False):    \n",
    "    \n",
    "    if readlines:\n",
    "        with open(filepath+filename, \"r\") as f:\n",
    "            data = f.readlines()\n",
    "            data = [line.strip(\"\\n\") for line in data]\n",
    "    else: \n",
    "        with open(filepath+filename, \"r\") as f:\n",
    "            data = f.read().strip(\"\\n\")\n",
    "\n",
    "    return data"
   ]
  },
  {
   "cell_type": "code",
   "execution_count": 4,
   "id": "917e656c-2418-427f-ad28-8b2e1d7cecf2",
   "metadata": {},
   "outputs": [],
   "source": [
    "filepath=\"C:\\\\Users\\\\adeoy\\\\Downloads\\\\\"\n",
    "filename=\"rosalind_orf (2).txt\"\n",
    "\n",
    "data = get_rosalind_data (filepath, filename, readlines=True)\n",
    "\n",
    "RNA = \"\"\n",
    "for item in data[1:]:\n",
    "    RNA += item\n"
   ]
  },
  {
   "cell_type": "code",
   "execution_count": 5,
   "id": "267759be-95e8-4f17-80d7-1c0676dd62f1",
   "metadata": {},
   "outputs": [],
   "source": [
    "RNA_comp = \"\".join([\"T\" if base==\"A\" else \"C\" if base==\"G\" else \"G\" if base==\"C\"\n",
    "                            else \"A\" if base==\"T\" else \"\" for base in RNA])"
   ]
  },
  {
   "cell_type": "code",
   "execution_count": 6,
   "id": "b5410f47-96fb-4b8c-82e5-a12bc3c81b9e",
   "metadata": {},
   "outputs": [],
   "source": [
    "RNA_prob = [RNA[:len(RNA)-len(RNA)%3],\n",
    "            RNA_comp[:len(RNA)-len(RNA)%3][::-1],\n",
    "            RNA[1:][:len(RNA[1:])-len(RNA[1:])%3], \n",
    "            RNA_comp[1:][:len(RNA[1:])-len(RNA[1:])%3][::-1],\n",
    "            RNA[2:][:len(RNA[2:])-len(RNA[2:])%3], \n",
    "            RNA_comp[2:][:len(RNA[2:])-len(RNA[2:])%3][::-1],]"
   ]
  },
  {
   "cell_type": "code",
   "execution_count": 7,
   "id": "4dd377c5-86fc-4042-a9e7-e48eeca3418d",
   "metadata": {},
   "outputs": [],
   "source": [
    "k = 0\n",
    "forward_reading_frame = [] \n",
    "for RNA in RNA_prob:\n",
    "    counter = 0\n",
    "    protein = \"\"\n",
    "    start_codon_locations = []\n",
    "    stop_codon_locations = []\n",
    "    k+=1\n",
    "    counter = 0\n",
    "    for i in range(len(RNA)//3): \n",
    "        \n",
    "        if gene_to_amino_code[RNA[counter:counter+3]][0] == \"M\":\n",
    "            start_codon_locations.append(i)\n",
    "        elif gene_to_amino_code[RNA[counter:counter+3]][0] == \"Stop\":\n",
    "            stop_codon_locations.append(i)\n",
    "            \n",
    "        protein += gene_to_amino_code[RNA[counter:counter+3]][0]\n",
    "        protein = protein.replace(\"Stop\", \"s\")\n",
    "        counter += 3\n",
    "    \n",
    "    \n",
    "    for start_pos in start_codon_locations: \n",
    "        for stop_pos in stop_codon_locations:\n",
    "            if start_pos < stop_pos:\n",
    "                break\n",
    "            \n",
    "        if (\"s\" in protein) and (protein[start_pos:stop_pos] != \"\") and protein[start_pos:stop_pos] not in forward_reading_frame:\n",
    "                \n",
    "            forward_reading_frame.append(protein[start_pos:stop_pos]) \n"
   ]
  },
  {
   "cell_type": "code",
   "execution_count": 8,
   "id": "52cd82e4-485e-41d3-9b24-99f637e446c9",
   "metadata": {},
   "outputs": [
    {
     "name": "stdout",
     "output_type": "stream",
     "text": [
      "M\n",
      "MSDGK\n",
      "MHVIQSLSRYCKGPEVLDTQK\n",
      "MARILINDLGSWLANHEPRSYS\n",
      "MSLPRLHTGLAFARNEIHQSKWRIKRPRGCSRIILPYCKPACTSGIYFIVASGSLQLDLQGTRPRYRVCF\n",
      "MDFVPGES\n",
      "MLDLDRGPLIGRPPLLHRATGR\n",
      "MISVRG\n",
      "MYSNSTPKEILVLRSTGNLKRVDN\n",
      "MSMISVRG\n",
      "MYGRRSNL\n",
      "MGSGNFSTTSRPT\n",
      "MEAAL\n",
      "MLQSVSEFYRLDRLPYIRYLSFSGLTTTNTHARHSILVQVLQGPRGTRYTKIRSAPRKKIELLNMPLAVPHGEDLN\n",
      "MPLAVPHGEDLN\n",
      "MK\n",
      "MSLVYEYDLGSWLANHEPRSLIKILAMRDCEWHI\n",
      "MRDCEWHI\n",
      "MTCMCIGRG\n",
      "MCIGRG\n"
     ]
    }
   ],
   "source": [
    "for frame in forward_reading_frame:\n",
    "    print(frame)"
   ]
  },
  {
   "cell_type": "code",
   "execution_count": null,
   "id": "e3adeb77-233d-4504-a819-86ab6a0e0c28",
   "metadata": {},
   "outputs": [],
   "source": []
  }
 ],
 "metadata": {
  "kernelspec": {
   "display_name": "Python 3 (ipykernel)",
   "language": "python",
   "name": "python3"
  },
  "language_info": {
   "codemirror_mode": {
    "name": "ipython",
    "version": 3
   },
   "file_extension": ".py",
   "mimetype": "text/x-python",
   "name": "python",
   "nbconvert_exporter": "python",
   "pygments_lexer": "ipython3",
   "version": "3.7.10"
  }
 },
 "nbformat": 4,
 "nbformat_minor": 5
}
