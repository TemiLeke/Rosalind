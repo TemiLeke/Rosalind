{
 "cells": [
  {
   "cell_type": "markdown",
   "id": "3c469568-f683-4a98-b8ea-5ff6e2d375e2",
   "metadata": {},
   "source": [
    "# Calculating Protein Mass"
   ]
  },
  {
   "cell_type": "code",
   "execution_count": 1,
   "id": "e85107ff-817b-4527-bf47-f1b9b0dedc81",
   "metadata": {},
   "outputs": [],
   "source": [
    "from gazpacho import get, Soup\n",
    "import csv\n",
    "import os\n",
    "import pandas as pd\n",
    "import numpy as np\n",
    "from itertools import groupby\n",
    "import pathlib\n",
    "import os\n",
    "import math"
   ]
  },
  {
   "cell_type": "code",
   "execution_count": 19,
   "id": "45597fba-25ef-4423-b86a-1232a4df90ed",
   "metadata": {},
   "outputs": [],
   "source": [
    "url = \"https://rosalind.info/glossary/monoisotopic-mass-table/\"\n",
    "html = get(url)\n",
    "soup = Soup(html)\n",
    "glossary_terms = soup.find(\"div\", {\"class\": \"glossary-term\"})"
   ]
  },
  {
   "cell_type": "code",
   "execution_count": 20,
   "id": "d0ba497c-92c9-47a6-9fbe-94b06bdf5bd2",
   "metadata": {},
   "outputs": [],
   "source": [
    "monoisotopic_mass_table = {item.split(\"  \")[0]:float(item.split(\"  \")[1].replace(\" \", \"\"))\n",
    "                           for item in glossary_terms.find(\"pre\").text.split(\"\\n\")}"
   ]
  },
  {
   "cell_type": "code",
   "execution_count": 30,
   "id": "7d09db23-f16b-46d2-a367-1fca63795c4c",
   "metadata": {},
   "outputs": [],
   "source": [
    "def get_rosalind_data(filepath, filename, readlines=False):    \n",
    "    \n",
    "    if readlines:\n",
    "        with open(filepath+filename, \"r\") as f:\n",
    "            data = f.readlines()\n",
    "            data = [line.strip(\"\\n\") for line in data]\n",
    "    else: \n",
    "        with open(filepath+filename, \"r\") as f:\n",
    "            data = f.read().strip(\"\\n\")\n",
    "\n",
    "    return data\n",
    "\n",
    "filepath=\"C:\\\\Users\\\\adeoy\\\\Downloads\\\\\"\n",
    "filename=\"rosalind_prtm.txt\"\n",
    "\n",
    "polypeptide = get_rosalind_data (filepath, filename, readlines=False)"
   ]
  },
  {
   "cell_type": "code",
   "execution_count": 31,
   "id": "d2fd2374-77c3-4d87-9f8d-3298ccab0ace",
   "metadata": {},
   "outputs": [
    {
     "data": {
      "text/plain": [
       "98513.0587800004"
      ]
     },
     "execution_count": 31,
     "metadata": {},
     "output_type": "execute_result"
    }
   ],
   "source": [
    "total_weight = 0\n",
    "\n",
    "for residue in polypeptide:\n",
    "    total_weight += monoisotopic_mass_table[residue]\n",
    "    \n",
    "total_weight"
   ]
  }
 ],
 "metadata": {
  "kernelspec": {
   "display_name": "Python 3 (ipykernel)",
   "language": "python",
   "name": "python3"
  },
  "language_info": {
   "codemirror_mode": {
    "name": "ipython",
    "version": 3
   },
   "file_extension": ".py",
   "mimetype": "text/x-python",
   "name": "python",
   "nbconvert_exporter": "python",
   "pygments_lexer": "ipython3",
   "version": "3.7.10"
  }
 },
 "nbformat": 4,
 "nbformat_minor": 5
}
